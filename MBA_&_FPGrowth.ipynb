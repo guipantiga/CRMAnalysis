{
  "nbformat": 4,
  "nbformat_minor": 0,
  "metadata": {
    "colab": {
      "provenance": [],
      "authorship_tag": "ABX9TyMmPU+4a6EmWe5JvXTZsCqm",
      "include_colab_link": true
    },
    "kernelspec": {
      "name": "python3",
      "display_name": "Python 3"
    },
    "language_info": {
      "name": "python"
    }
  },
  "cells": [
    {
      "cell_type": "markdown",
      "metadata": {
        "id": "view-in-github",
        "colab_type": "text"
      },
      "source": [
        "<a href=\"https://colab.research.google.com/github/guipantiga/CRMAnalysis/blob/main/MBA_%26_FPGrowth.ipynb\" target=\"_parent\"><img src=\"https://colab.research.google.com/assets/colab-badge.svg\" alt=\"Open In Colab\"/></a>"
      ]
    },
    {
      "cell_type": "markdown",
      "source": [
        "# Customer Relationship Management (CRM) - MBA using Spark\n",
        "\n",
        "Market basket analysis is a data mining technique used by retailers to increase sales by better understanding customer purchasing patterns.\n",
        "\n",
        "### About\n",
        "\n",
        "*   Data source: https://www.kaggle.com/datasets/jihyeseo/online-retail-data-set-from-uci-ml-repo\n",
        "\n"
      ],
      "metadata": {
        "id": "x5bm0fK5Eayv"
      }
    },
    {
      "cell_type": "code",
      "execution_count": 1,
      "metadata": {
        "id": "f1NXs0YH8PlQ"
      },
      "outputs": [],
      "source": [
        "%%capture\n",
        "!pip install pyspark"
      ]
    },
    {
      "cell_type": "code",
      "source": [
        "import pandas as pd\n",
        "import numpy as np\n",
        "import matplotlib.pyplot as plt\n",
        "from datetime import datetime\n",
        "import plotly.express as px"
      ],
      "metadata": {
        "id": "xdDQC97zDEZV"
      },
      "execution_count": 2,
      "outputs": []
    },
    {
      "cell_type": "code",
      "source": [
        "# Import\n",
        "from pyspark.sql import functions as F\n",
        "from pyspark.sql.window import Window\n",
        "from pyspark.sql.dataframe import DataFrame\n",
        "from pyspark.ml.feature import QuantileDiscretizer, Bucketizer\n",
        "from pyspark.sql import SparkSession\n",
        "# Create a Spark Session\n",
        "spark = SparkSession.builder.master(\"local\").appName(\"Colab\").getOrCreate()\n",
        "spark.sql(\"set spark.sql.legacy.timeParserPolicy=LEGACY\")\n",
        "\n",
        "# Check Spark Session Information\n",
        "spark"
      ],
      "metadata": {
        "colab": {
          "base_uri": "https://localhost:8080/",
          "height": 222
        },
        "id": "oSBFXqQsDGGm",
        "outputId": "482125c4-89c5-4dbb-ae53-f49857c42174"
      },
      "execution_count": 3,
      "outputs": [
        {
          "output_type": "execute_result",
          "data": {
            "text/plain": [
              "<pyspark.sql.session.SparkSession at 0x7fc9725fa290>"
            ],
            "text/html": [
              "\n",
              "            <div>\n",
              "                <p><b>SparkSession - in-memory</b></p>\n",
              "                \n",
              "        <div>\n",
              "            <p><b>SparkContext</b></p>\n",
              "\n",
              "            <p><a href=\"http://5bf62b212e48:4040\">Spark UI</a></p>\n",
              "\n",
              "            <dl>\n",
              "              <dt>Version</dt>\n",
              "                <dd><code>v3.4.1</code></dd>\n",
              "              <dt>Master</dt>\n",
              "                <dd><code>local</code></dd>\n",
              "              <dt>AppName</dt>\n",
              "                <dd><code>Colab</code></dd>\n",
              "            </dl>\n",
              "        </div>\n",
              "        \n",
              "            </div>\n",
              "        "
            ]
          },
          "metadata": {},
          "execution_count": 3
        }
      ]
    },
    {
      "cell_type": "code",
      "source": [
        "rawDF = spark.read.csv('/content/data.csv', encoding=\"ISO-8859-1\", header=True)"
      ],
      "metadata": {
        "id": "JrKzbO9GDJLX"
      },
      "execution_count": 4,
      "outputs": []
    },
    {
      "cell_type": "code",
      "source": [
        "# Begin the previous treatment for Online Retail\n",
        "# Filtering\n",
        "# Cleaning and formating\n",
        "# Renaming Columns\n",
        "# Creating Columns\n",
        "# Aggregating\n",
        "\n",
        "df = (rawDF\n",
        "      .filter(\n",
        "          (F.col(\"CustomerID\").isNotNull())\n",
        "          & (F.col('Quantity') > 0)\n",
        "          & (F.col('UnitPrice') > 0)\n",
        "          & (F.col('InvoiceDate').isNotNull())\n",
        "          & (F.col('Description').isNotNull())\n",
        "          & (F.col('Description') != \" \")\n",
        "          & (F.trim(F.regexp_replace(F.col('StockCode'), '[^a-zA-Z]+', '')) == \"\")\n",
        "          )\n",
        "      .withColumn('Description', F.upper(F.trim(F.regexp_replace('Description', '[^a-zA-Z0-9]+', ' '))))\n",
        "      .withColumn('transactionDate',\n",
        "                  F.date_format(\n",
        "                      F.to_date(\n",
        "                          F.lpad(F.col('InvoiceDate').substr(1,10),10,'0'), 'MM/dd/yyyy')\n",
        "                      , 'yyyy-MM-dd'\n",
        "                      )\n",
        "                  )\n",
        "      .select(\n",
        "          F.col('CustomerID').cast('bigint').alias('customerID'),\n",
        "          F.col('Country').cast('string').alias('additionalSegmentation'),\n",
        "          F.col('InvoiceNo').cast('string').alias('invoiceNo'),\n",
        "          F.col('Description').cast('string').alias('productDescription'),\n",
        "          F.col('transactionDate'),\n",
        "          F.col('Quantity').cast('bigint').alias('productQuantity'),\n",
        "          F.col('UnitPrice').cast('double').alias('productPrice'),\n",
        "          )\n",
        "      .withColumn(\"monetaryValue\",(F.col('productPrice')*F.col('productQuantity')).cast('decimal(19,2)'))\n",
        "      .groupBy('customerID','additionalSegmentation','invoiceNo','productDescription','transactionDate')\n",
        "      .agg(\n",
        "          F.sum('productQuantity').cast('bigint').alias('productQuantityValue'),\n",
        "          F.sum('productPrice').cast('double').alias('productPriceValue'),\n",
        "          F.sum('monetaryValue').cast('double').alias('monetaryValue'),\n",
        "          )\n",
        "      # Separate dates into Year, month and days\n",
        "      .withColumn(\"transactionDateYear\", F.date_format(F.col(\"transactionDate\"), \"Y\"))\n",
        "      .withColumn(\"transactionDateMonth\", F.date_format(F.col(\"transactionDate\"), \"MM\"))\n",
        "      .withColumn(\"transactionDateDay\", F.date_format(F.col(\"transactionDate\"), \"dd\"))\n",
        "      .filter(\n",
        "          (F.col('productDescription').isNotNull())\n",
        "          & (~F.col('productDescription').isin(\"\",\" \"))\n",
        "          )\n",
        "      ).repartition(20).sortWithinPartitions(['customerID','transactionDate'])"
      ],
      "metadata": {
        "id": "Tnlde5ubDObS"
      },
      "execution_count": 5,
      "outputs": []
    },
    {
      "cell_type": "code",
      "source": [
        "# I am interested to know witch product has the most agreggated value for every customer, so what I'm doing here is creating a order based on the products's value\n",
        "# In addition, I an searching for only a few products to reccomend, so for every customer I am going to use only the first 10 itens\n",
        "# I am also goint to filter clientes that ordered more than 1 item on their purchases\n",
        "# The question remains, what if two or more product have exactly the same value? Well then I am going to order them by alphabetical order...\n",
        "# Please, bare in mind that if you come across these types of problems, find a suitable way to solve them\n",
        "\n",
        "basketData = (df\n",
        "              .orderBy('customerID','productDescription')\n",
        "              .dropDuplicates(['customerID', 'productDescription'])\n",
        "              .withColumn(\"rank_order\",F.rank().over(Window.partitionBy('customerID').orderBy(F.desc('monetaryValue'))))\n",
        "              .sort('customerID')\n",
        "              .filter(F.col('rank_order').between(1,10))\n",
        "              .orderBy(['customerID','productDescription','rank_order'])\n",
        "              .dropDuplicates(subset=['customerID','monetaryValue','rank_order'])\n",
        "              .withColumn('maxRankValue', (F.max('rank_order').over(Window.partitionBy('customerID'))))\n",
        "              .filter(F.col('maxRankValue')>1)\n",
        "              )\n",
        "\n",
        "basketData = basketData.orderBy('productPriceValue', ascending=False).groupBy(\"customerID\").agg(F.collect_list(\"productDescription\")).sort('customerID')"
      ],
      "metadata": {
        "id": "hB700ccGDpqs"
      },
      "execution_count": 16,
      "outputs": []
    },
    {
      "cell_type": "code",
      "source": [
        "from pyspark.ml.fpm import FPGrowth\n",
        "#Frequent Pattern Growth – FP Growth is a method of mining frequent itemsets using support, lift, and confidence.\n",
        "fpGrowth = FPGrowth(itemsCol=\"collect_list(productDescription)\", minSupport=0.006, minConfidence=0.006)\n",
        "model = fpGrowth.fit(basketData)\n",
        "# Display frequent itemsets.\n",
        "model.freqItemsets.show(5, False)\n",
        "items = model.freqItemsets\n",
        "# Display generated association rules.\n",
        "model.associationRules.show(5, False)\n",
        "rules = model.associationRules\n",
        "# transform examines the input items against all the association rules and summarize the consequents as prediction\n",
        "model.transform(basketData).show(5, False)\n",
        "transformed = model.transform(basketData)\n",
        "\n",
        "# Frequency tells us how often that combination occurs in a transaction\n",
        "# Confidence tells us how if the products on the left hand side occur in a order, how like it is that the product n the right hand side are them also occuring frq(Lhs, Rhs)/frq(Lhs)\n",
        "# Support tells us what percentage of all transactions that combination occurs frq(Lhs, Rhs)/N\n",
        "# Lift indicates the fact about wich the probability of buying the product on the right hand side increases if the procuts on the left hand side has already been bought"
      ],
      "metadata": {
        "colab": {
          "base_uri": "https://localhost:8080/"
        },
        "id": "VfmF8cBD8T2T",
        "outputId": "5b3da9a8-bebb-4e84-d3b6-a36f291afec5"
      },
      "execution_count": 18,
      "outputs": [
        {
          "output_type": "stream",
          "name": "stdout",
          "text": [
            "+-------------------------------------+----+\n",
            "|items                                |freq|\n",
            "+-------------------------------------+----+\n",
            "|[PACK OF SIX LED TEA LIGHTS]         |45  |\n",
            "|[AREA PATROLLED METAL SIGN]          |43  |\n",
            "|[CHRISTMAS LIGHTS 10 VINTAGE BAUBLES]|33  |\n",
            "|[JUMBO BAG PINK VINTAGE PAISLEY]     |33  |\n",
            "|[PICNIC BASKET WICKER SMALL]         |59  |\n",
            "+-------------------------------------+----+\n",
            "only showing top 5 rows\n",
            "\n",
            "+----------------------------+----------------------------+-------------------+------------------+---------------------+\n",
            "|antecedent                  |consequent                  |confidence         |lift              |support              |\n",
            "+----------------------------+----------------------------+-------------------+------------------+---------------------+\n",
            "|[HOT WATER BOTTLE KEEP CALM]|[LOVE HOT WATER BOTTLE]     |0.19424460431654678|8.634485959619402 |0.006531204644412192 |\n",
            "|[HOT WATER BOTTLE KEEP CALM]|[CHOCOLATE HOT WATER BOTTLE]|0.20863309352517986|7.4999061620269005|0.0070149975810353165|\n",
            "|[COOK WITH WINE METAL SIGN] |[GIN TONIC DIET METAL SIGN] |0.4098360655737705 |14.480874316939891|0.006047411707789066 |\n",
            "|[REGENCY TEAPOT ROSES]      |[REGENCY CAKESTAND 3 TIER]  |0.59375            |5.040169404517454 |0.013788098693759071 |\n",
            "|[DOUGHNUT LIP GLOSS]        |[ICE CREAM SUNDAE LIP GLOSS]|0.2013888888888889 |9.569444444444445 |0.0070149975810353165|\n",
            "+----------------------------+----------------------------+-------------------+------------------+---------------------+\n",
            "only showing top 5 rows\n",
            "\n",
            "+----------+-------------------------------------------------------------------------------------------------------------------------------------------------------------------------------------------------------------------------------------------------------------------------------+-------------------------------------------------------------------------------------------------------------------------------------------------------------------------------------------------------------+\n",
            "|customerID|collect_list(productDescription)                                                                                                                                                                                                                                               |prediction                                                                                                                                                                                                   |\n",
            "+----------+-------------------------------------------------------------------------------------------------------------------------------------------------------------------------------------------------------------------------------------------------------------------------------+-------------------------------------------------------------------------------------------------------------------------------------------------------------------------------------------------------------+\n",
            "|12347     |[REGENCY CAKESTAND 3 TIER, RED REFECTORY CLOCK, BOOM BOX SPEAKER BOYS, BLACK EAR MUFF HEADPHONES, AIRLINE BAG VINTAGE TOKYO 78, MINI LIGHTS WOODLAND MUSHROOMS, COLOUR GLASS STAR T LIGHT HOLDER, RABBIT NIGHT LIGHT, LARGE HEART MEASURING SPOONS, ICE CREAM SUNDAE LIP GLOSS]|[REGENCY TEAPOT ROSES, ASSORTED COLOUR BIRD ORNAMENT, PAPER CHAIN KIT 50 S CHRISTMAS, GREEN REGENCY TEACUP AND SAUCER, PARTY BUNTING, RED RETROSPOT CAKE STAND, JAM MAKING SET WITH JARS, DOUGHNUT LIP GLOSS]|\n",
            "|12348     |[SET OF 72 PINK HEART PAPER DOILIES, SET OF 72 SKULL PAPER DOILIES, ICE CREAM SUNDAE LIP GLOSS, DOUGHNUT LIP GLOSS, ICE CREAM PEN LIP GLOSS]                                                                                                                                   |[]                                                                                                                                                                                                           |\n",
            "|12349     |[16 PIECE CUTLERY SET PANTRY DESIGN, DOORMAT FAIRY CAKE, DOORMAT ENGLISH ROSE, TEA TIME TEAPOT IN GIFT BOX, JAM MAKING SET WITH JARS, PAINTED METAL PEARS ASSORTED, STRAWBERRY CERAMIC TRINKET POT]                                                                            |[REGENCY CAKESTAND 3 TIER]                                                                                                                                                                                   |\n",
            "|12350     |[BLUE POLKADOT PASSPORT COVER, CHOCOLATE CALCULATOR, BATHROOM METAL SIGN, 4 TRADITIONAL SPINNING TOPS]                                                                                                                                                                         |[]                                                                                                                                                                                                           |\n",
            "|12352     |[REGENCY CAKESTAND 3 TIER, CHILDS BREAKFAST SET DOLLY GIRL, WELCOME WOODEN BLOCK LETTERS, VINTAGE CREAM DOG FOOD CONTAINER, DELUXE SEWING KIT, PANTRY ROLLING PIN, DOLLY GIRL LUNCH BOX, ZINC HEART FLOWER T LIGHT HOLDER]                                                     |[REGENCY TEAPOT ROSES, ASSORTED COLOUR BIRD ORNAMENT, PAPER CHAIN KIT 50 S CHRISTMAS, GREEN REGENCY TEACUP AND SAUCER, PARTY BUNTING, RED RETROSPOT CAKE STAND, JAM MAKING SET WITH JARS]                    |\n",
            "+----------+-------------------------------------------------------------------------------------------------------------------------------------------------------------------------------------------------------------------------------------------------------------------------------+-------------------------------------------------------------------------------------------------------------------------------------------------------------------------------------------------------------+\n",
            "only showing top 5 rows\n",
            "\n"
          ]
        }
      ]
    },
    {
      "cell_type": "code",
      "source": [
        "# Lets get the first item that we recommend for each customer\n",
        "transformedDf = (transformed\n",
        "                 .withColumn(\"recommendedProduct\", F.col('prediction').getItem(0))\n",
        "                 .select('customerID','recommendedProduct')\n",
        "                 )"
      ],
      "metadata": {
        "id": "wkwslGpjIi0F"
      },
      "execution_count": 22,
      "outputs": []
    },
    {
      "cell_type": "code",
      "source": [
        "# As you can see, that are a lot of cusomters that did not receive any product given their purchase habits\n",
        "(transformedDf\n",
        " .withColumn('counterDummy', F.lit(1))\n",
        " .groupBy('counterDummy')\n",
        " .agg(\n",
        "    F.count('customerID').alias('countClients'),\n",
        "    F.sum(F.when(F.col('recommendedProduct').isNotNull(), F.lit(1)).otherwise(F.lit(0))).alias('countNotNullProducts'),\n",
        "    )\n",
        " .withColumn('countNullProducts', F.col('countClients')-F.col('countNotNullProducts'))\n",
        " .drop('counterDummy')\n",
        " ).show(10, False)"
      ],
      "metadata": {
        "colab": {
          "base_uri": "https://localhost:8080/"
        },
        "id": "FuoevuZdJNw7",
        "outputId": "6034f0f4-a873-46c8-a6fb-2bd32dde81dd"
      },
      "execution_count": 26,
      "outputs": [
        {
          "output_type": "stream",
          "name": "stdout",
          "text": [
            "+------------+--------------------+-----------------+\n",
            "|countClients|countNotNullProducts|countNullProducts|\n",
            "+------------+--------------------+-----------------+\n",
            "|4134        |2132                |2002             |\n",
            "+------------+--------------------+-----------------+\n",
            "\n"
          ]
        }
      ]
    },
    {
      "cell_type": "code",
      "source": [
        "# This problem can be solve in a lot of different ways,\n",
        "# you can trim down the products into categories or reduce their lettering,\n",
        "# you can also build much more robust models to deal with propensity\n",
        "# or combine simple strategies like grouping them using RFM analysis/clustering and recommending the most frequent item"
      ],
      "metadata": {
        "id": "2J0uYeNdKo4q"
      },
      "execution_count": null,
      "outputs": []
    }
  ]
}