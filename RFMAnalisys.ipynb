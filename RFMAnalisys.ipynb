{
  "nbformat": 4,
  "nbformat_minor": 0,
  "metadata": {
    "colab": {
      "provenance": [],
      "authorship_tag": "ABX9TyNqifywReQWM6SAuZ+6b+ge",
      "include_colab_link": true
    },
    "kernelspec": {
      "name": "python3",
      "display_name": "Python 3"
    },
    "language_info": {
      "name": "python"
    }
  },
  "cells": [
    {
      "cell_type": "markdown",
      "metadata": {
        "id": "view-in-github",
        "colab_type": "text"
      },
      "source": [
        "<a href=\"https://colab.research.google.com/github/guipantiga/rfmInitialAnalysis/blob/main/RFMAnalisys.ipynb\" target=\"_parent\"><img src=\"https://colab.research.google.com/assets/colab-badge.svg\" alt=\"Open In Colab\"/></a>"
      ]
    },
    {
      "cell_type": "markdown",
      "source": [
        "# Customer Relationship Management (CRM) - RFM Analysis using Spark\n",
        "\n",
        "A commom method used in CRM Analytics is RFM Analysis. RFM reffers to Recency, Frequency and Monetary, a simple but very powerfull combination of customer's information.\n",
        "\n",
        "Recency is related to the last interaction of a customer with your company. The more recently a customer has shopped, the more likely they are to keep the company in mind for future purchases. It can also be used to identify customers who have not shopped for a long time and encourage them to visit the store again.\n",
        "\n",
        "Frequency indicates the number of times a customer makes a purchase. If it can be recognized that the customer's purchases are in a cycle, actions can be taken to predict when the customer will come back to the store or to remind them of their needs.\n",
        "\n",
        "The monetary value is the money left by the customer as a result of these purchases, indicating the total expenditure. While the monetary value can identify the customers who spend the most, it also carries the risk of alienating customers who spend relatively small amounts or new customers.\n",
        "\n",
        "### About\n",
        "\n",
        "*   Data source: https://www.kaggle.com/datasets/jihyeseo/online-retail-data-set-from-uci-ml-repo\n",
        "*   References: https://www.kaggle.com/code/sanlian/crm-rfm-analysis-with-online-retail-dataset/notebook\n",
        "\n"
      ],
      "metadata": {
        "id": "5GKxhBk7u0Wj"
      }
    },
    {
      "cell_type": "code",
      "source": [
        "%%capture\n",
        "!pip install pyspark\n",
        "!pip install squarify"
      ],
      "metadata": {
        "id": "RXYEBeIkmDfX"
      },
      "execution_count": 1,
      "outputs": []
    },
    {
      "cell_type": "code",
      "execution_count": 2,
      "metadata": {
        "id": "bE8CgQn6dVfY"
      },
      "outputs": [],
      "source": [
        "import pandas as pd\n",
        "import numpy as np\n",
        "import matplotlib.pyplot as plt\n",
        "from datetime import datetime\n",
        "import plotly.express as px"
      ]
    },
    {
      "cell_type": "code",
      "source": [
        "# Import]\n",
        "from pyspark.sql import functions as F\n",
        "from pyspark.sql.window import Window\n",
        "from pyspark.sql.dataframe import DataFrame\n",
        "from pyspark.ml.feature import QuantileDiscretizer, Bucketizer\n",
        "from pyspark.sql import SparkSession\n",
        "# Create a Spark Session\n",
        "spark = SparkSession.builder.master(\"local\").appName(\"Colab\").getOrCreate()\n",
        "spark.sql(\"set spark.sql.legacy.timeParserPolicy=LEGACY\")\n",
        "\n",
        "# Check Spark Session Information\n",
        "spark"
      ],
      "metadata": {
        "colab": {
          "base_uri": "https://localhost:8080/",
          "height": 222
        },
        "id": "NYT39HwVpITr",
        "outputId": "a3e9d626-a9f6-45cb-a8fe-f5905a8c88b0"
      },
      "execution_count": 3,
      "outputs": [
        {
          "output_type": "execute_result",
          "data": {
            "text/plain": [
              "<pyspark.sql.session.SparkSession at 0x7fd00cdaba60>"
            ],
            "text/html": [
              "\n",
              "            <div>\n",
              "                <p><b>SparkSession - in-memory</b></p>\n",
              "                \n",
              "        <div>\n",
              "            <p><b>SparkContext</b></p>\n",
              "\n",
              "            <p><a href=\"http://b4b132aed337:4040\">Spark UI</a></p>\n",
              "\n",
              "            <dl>\n",
              "              <dt>Version</dt>\n",
              "                <dd><code>v3.4.1</code></dd>\n",
              "              <dt>Master</dt>\n",
              "                <dd><code>local</code></dd>\n",
              "              <dt>AppName</dt>\n",
              "                <dd><code>Colab</code></dd>\n",
              "            </dl>\n",
              "        </div>\n",
              "        \n",
              "            </div>\n",
              "        "
            ]
          },
          "metadata": {},
          "execution_count": 3
        }
      ]
    },
    {
      "cell_type": "code",
      "source": [
        "rawDF = spark.read.csv('/content/data.csv', encoding=\"ISO-8859-1\", header=True)"
      ],
      "metadata": {
        "id": "ez3lMdlRpeLD"
      },
      "execution_count": 4,
      "outputs": []
    },
    {
      "cell_type": "markdown",
      "source": [
        "# Preparing our Data"
      ],
      "metadata": {
        "id": "qk2idfHmlkC1"
      }
    },
    {
      "cell_type": "code",
      "source": [
        "rawDF.summary().show(10, False)"
      ],
      "metadata": {
        "colab": {
          "base_uri": "https://localhost:8080/"
        },
        "id": "I8D7QENu3i_Y",
        "outputId": "3c8fc1b4-b3c4-4c10-809c-1feeaf238e81"
      },
      "execution_count": 5,
      "outputs": [
        {
          "output_type": "stream",
          "name": "stdout",
          "text": [
            "+-------+------------------+------------------+------------------------------+------------------+---------------+-----------------+------------------+-----------+\n",
            "|summary|InvoiceNo         |StockCode         |Description                   |Quantity          |InvoiceDate    |UnitPrice        |CustomerID        |Country    |\n",
            "+-------+------------------+------------------+------------------------------+------------------+---------------+-----------------+------------------+-----------+\n",
            "|count  |541909            |541909            |540455                        |541909            |541909         |541909           |406829            |541909     |\n",
            "|mean   |559965.752026781  |27623.240210938104|20713.0                       |9.55224954743324  |null           |4.611113626083471|15287.690570239585|null       |\n",
            "|stddev |13428.417280805148|16799.73762842771 |null                          |218.08115785023355|null           |96.75985306117803|1713.6003033216148|null       |\n",
            "|min    |536365            |10002             | 4 PURPLE FLOCK DINNER CANDLES|-1                |1/10/2011 10:04|-11062.06        |12346             |Australia  |\n",
            "|25%    |547903.0          |21929.0           |20713.0                       |1.0               |null           |1.25             |13952.0           |null       |\n",
            "|50%    |560650.0          |22569.0           |20713.0                       |3.0               |null           |2.08             |15152.0           |null       |\n",
            "|75%    |571840.0          |23165.0           |20713.0                       |10.0              |null           |4.13             |16791.0           |null       |\n",
            "|max    |C581569           |m                 |wrongly sold sets             |992               |9/9/2011 9:52  |99.96            |18287             |Unspecified|\n",
            "+-------+------------------+------------------+------------------------------+------------------+---------------+-----------------+------------------+-----------+\n",
            "\n"
          ]
        }
      ]
    },
    {
      "cell_type": "code",
      "source": [
        "# 1. Note that are InvoiceNo with a \"C\", indicading a different type of transaction\n",
        "# On simple analysis, I will asume this indicates returned or wrong transactions\n",
        "\n",
        "# 2. That are also CustomerID with null values, these are going to be removed\n",
        "\n",
        "# 3. Any transactions with a negative value on Quantity or UnitPrice are going to be removed\n",
        "\n",
        "# 4. Any null InvoiceDate or Description are going to be removed\n",
        "\n",
        "# 5. any StockCode that is not a number i'm going to leave out of the analysis"
      ],
      "metadata": {
        "id": "IfcG18-X35o8"
      },
      "execution_count": 6,
      "outputs": []
    },
    {
      "cell_type": "code",
      "source": [
        "(rawDF\n",
        "      .filter(\n",
        "          (F.col(\"CustomerID\").isNotNull())\n",
        "          & (F.col('Quantity') > 0)\n",
        "          & (F.col('UnitPrice') > 0)\n",
        "          & (F.col('InvoiceDate').isNotNull())\n",
        "          & (F.col('Description').isNotNull())\n",
        "          & (F.col('Description') != \" \")\n",
        "          & (F.trim(F.regexp_replace(F.col('StockCode'), '[^a-zA-Z]+', '')) == \"\")\n",
        "          )\n",
        "      .withColumn('Description', F.upper(F.trim(F.regexp_replace('Description', '[^a-zA-Z0-9]+', ' '))))\n",
        "      .withColumn('transactionDate',\n",
        "                  F.date_format(\n",
        "                      F.to_date(\n",
        "                          F.lpad(F.col('InvoiceDate').substr(1,10),10,'0'), 'MM/dd/yyyy')\n",
        "                      , 'yyyy-MM-dd'\n",
        "                      )\n",
        "                  )\n",
        "      ).summary().show()"
      ],
      "metadata": {
        "colab": {
          "base_uri": "https://localhost:8080/"
        },
        "id": "2E5UoHDdscCI",
        "outputId": "67ddd703-c6f4-4bda-ae88-3fea541654d1"
      },
      "execution_count": 7,
      "outputs": [
        {
          "output_type": "stream",
          "name": "stdout",
          "text": [
            "+-------+------------------+------------------+--------------------+------------------+---------------+-----------------+------------------+-----------+---------------+\n",
            "|summary|         InvoiceNo|         StockCode|         Description|          Quantity|    InvoiceDate|        UnitPrice|        CustomerID|    Country|transactionDate|\n",
            "+-------+------------------+------------------+--------------------+------------------+---------------+-----------------+------------------+-----------+---------------+\n",
            "|  count|            278802|            278802|              278802|            278802|         278802|           278802|            278802|     278802|         278802|\n",
            "|   mean| 560590.7107266089|26860.963863243447|                null|10.280740453798753|           null|3.576125494074277|15299.405814879377|       null|           null|\n",
            "| stddev|13129.998986202665|15292.519686382288|                null|210.38884618398265|           null|4.766088073911804|1708.2913954150847|       null|           null|\n",
            "|    min|            536365|             10135|10 COLOUR SPACEBO...|                 1|1/10/2011 10:32|                1|             12346|  Australia|     2010-12-01|\n",
            "|    25%|          549123.0|           22079.0|                null|               2.0|           null|             1.65|           13975.0|       null|           null|\n",
            "|    50%|          561901.0|           22637.0|                null|               4.0|           null|              2.1|           15159.0|       null|           null|\n",
            "|    75%|          572088.0|           23189.0|                null|              10.0|           null|             4.25|           16800.0|       null|           null|\n",
            "|    max|            581587|             90208|ZINC WIRE SWEETHE...|               972|  9/9/2011 9:52|             9.98|             18287|Unspecified|     2011-12-09|\n",
            "+-------+------------------+------------------+--------------------+------------------+---------------+-----------------+------------------+-----------+---------------+\n",
            "\n"
          ]
        }
      ]
    },
    {
      "cell_type": "markdown",
      "source": [
        "# Creating the final DataFrame\n",
        "\n",
        "### As you can see I did not spend that much time neither I went deep into EDA analysis. I went as simple as it gets. My suggestion is to go futher and better analyse the data"
      ],
      "metadata": {
        "id": "RCLbRkNR9NE4"
      }
    },
    {
      "cell_type": "code",
      "source": [
        "# Begin the previous treatment for Online Retail\n",
        "# Filtering\n",
        "# Cleaning and formating\n",
        "# Renaming Columns\n",
        "# Creating Columns\n",
        "# Aggregating\n",
        "\n",
        "df = (rawDF\n",
        "      .filter(\n",
        "          (F.col(\"CustomerID\").isNotNull())\n",
        "          & (F.col('Quantity') > 0)\n",
        "          & (F.col('UnitPrice') > 0)\n",
        "          & (F.col('InvoiceDate').isNotNull())\n",
        "          & (F.col('Description').isNotNull())\n",
        "          & (F.col('Description') != \" \")\n",
        "          & (F.trim(F.regexp_replace(F.col('StockCode'), '[^a-zA-Z]+', '')) == \"\")\n",
        "          )\n",
        "      .withColumn('Description', F.upper(F.trim(F.regexp_replace('Description', '[^a-zA-Z0-9]+', ' '))))\n",
        "      .withColumn('transactionDate',\n",
        "                  F.date_format(\n",
        "                      F.to_date(\n",
        "                          F.lpad(F.col('InvoiceDate').substr(1,10),10,'0'), 'MM/dd/yyyy')\n",
        "                      , 'yyyy-MM-dd'\n",
        "                      )\n",
        "                  )\n",
        "      .select(\n",
        "          F.col('CustomerID').cast('bigint').alias('customerID'),\n",
        "          F.col('Country').cast('string').alias('additionalSegmentation'),\n",
        "          F.col('InvoiceNo').cast('string').alias('invoiceNo'),\n",
        "          F.col('Description').cast('string').alias('productDescription'),\n",
        "          F.col('transactionDate'),\n",
        "          F.col('Quantity').cast('bigint').alias('productQuantity'),\n",
        "          F.col('UnitPrice').cast('double').alias('productPrice'),\n",
        "          )\n",
        "      .withColumn(\"monetaryValue\",(F.col('productPrice')*F.col('productQuantity')).cast('decimal(19,2)'))\n",
        "      .groupBy('customerID','additionalSegmentation','invoiceNo','productDescription','transactionDate')\n",
        "      .agg(\n",
        "          F.sum('productQuantity').cast('bigint').alias('productQuantityValue'),\n",
        "          F.sum('productPrice').cast('double').alias('productPriceValue'),\n",
        "          F.sum('monetaryValue').cast('double').alias('monetaryValue'),\n",
        "          )\n",
        "      # Separate dates into Year, month and days\n",
        "      .withColumn(\"transactionDateYear\", F.date_format(F.col(\"transactionDate\"), \"Y\"))\n",
        "      .withColumn(\"transactionDateMonth\", F.date_format(F.col(\"transactionDate\"), \"MM\"))\n",
        "      .withColumn(\"transactionDateDay\", F.date_format(F.col(\"transactionDate\"), \"dd\"))\n",
        "      .filter(\n",
        "          (F.col('productDescription').isNotNull())\n",
        "          & (~F.col('productDescription').isin(\"\",\" \"))\n",
        "          )\n",
        "      ).repartition(20).sortWithinPartitions(['customerID','transactionDate'])"
      ],
      "metadata": {
        "id": "uPKl-8XLfXNd"
      },
      "execution_count": 8,
      "outputs": []
    },
    {
      "cell_type": "code",
      "source": [
        "df.show(10, False)"
      ],
      "metadata": {
        "colab": {
          "base_uri": "https://localhost:8080/"
        },
        "id": "0N1BuGC1s5cj",
        "outputId": "b09836c1-3e57-4694-f03b-0a1539a64f27"
      },
      "execution_count": 9,
      "outputs": [
        {
          "output_type": "stream",
          "name": "stdout",
          "text": [
            "+----------+----------------------+---------+-------------------------------+---------------+--------------------+-----------------+-------------+-------------------+--------------------+------------------+\n",
            "|customerID|additionalSegmentation|invoiceNo|productDescription             |transactionDate|productQuantityValue|productPriceValue|monetaryValue|transactionDateYear|transactionDateMonth|transactionDateDay|\n",
            "+----------+----------------------+---------+-------------------------------+---------------+--------------------+-----------------+-------------+-------------------+--------------------+------------------+\n",
            "|12347     |Iceland               |537626   |ALARM CLOCK BAKELIKE PINK      |2010-12-07     |4                   |3.75             |15.0         |2010               |12                  |07                |\n",
            "|12347     |Iceland               |537626   |BLACK CANDELABRA T LIGHT HOLDER|2010-12-07     |12                  |2.1              |25.2         |2010               |12                  |07                |\n",
            "|12347     |Iceland               |542237   |RED RETROSPOT OVEN GLOVE       |2011-01-26     |10                  |1.25             |12.5         |2011               |01                  |26                |\n",
            "|12347     |Iceland               |542237   |BLACK CANDELABRA T LIGHT HOLDER|2011-01-26     |6                   |2.1              |12.6         |2011               |01                  |26                |\n",
            "|12347     |Iceland               |562032   |ALARM CLOCK BAKELIKE RED       |2011-08-02     |8                   |3.75             |30.0         |2011               |08                  |02                |\n",
            "|12347     |Iceland               |562032   |AIRLINE BAG VINTAGE JET SET RED|2011-08-02     |4                   |4.25             |17.0         |2011               |08                  |02                |\n",
            "|12347     |Iceland               |573511   |MINI LIGHTS WOODLAND MUSHROOMS |2011-10-31     |12                  |3.75             |45.0         |2011               |10                  |31                |\n",
            "|12347     |Iceland               |581180   |PINK GOOSE FEATHER TREE 60CM   |2011-12-07     |12                  |1.95             |23.4         |2011               |12                  |07                |\n",
            "|12349     |Italy                 |577609   |DOORMAT FAIRY CAKE             |2011-11-21     |4                   |8.25             |33.0         |2011               |11                  |21                |\n",
            "|12349     |Italy                 |577609   |EMBROIDERED RIBBON REEL SALLY  |2011-11-21     |6                   |2.08             |12.48        |2011               |11                  |21                |\n",
            "+----------+----------------------+---------+-------------------------------+---------------+--------------------+-----------------+-------------+-------------------+--------------------+------------------+\n",
            "only showing top 10 rows\n",
            "\n"
          ]
        }
      ]
    },
    {
      "cell_type": "code",
      "source": [
        "def create_rfm_dataframe(\n",
        "    df: DataFrame,\n",
        "    groupByColumns: list,\n",
        "    frequencyColumn: str,\n",
        "    dateColumn: str,\n",
        "    ) -> DataFrame:\n",
        "\n",
        "    \"\"\"\n",
        "    Note that it is up to the business analyst to define what will be considered in terms of frequency.\n",
        "\n",
        "    In this case I am going to consider that every InvoiceNo is one distinct transaction,\n",
        "    but you could also use the different days between each purchase, etc.\n",
        "\n",
        "    \"\"\"\n",
        "\n",
        "    max_date = (df.select(F.max(F.col(dateColumn)))).collect()[0][0]\n",
        "\n",
        "    dfRFM = (df\n",
        "              .withColumn('days_recency',\n",
        "                          F.datediff(\n",
        "                              F.to_date(\n",
        "                                  F.lit(max_date), 'yyyy-MM-dd'), F.col(dateColumn)))\n",
        "              .withColumn('recencyValue', (F.max('days_recency').over(Window.partitionBy(groupByColumns))*-1))\n",
        "              .withColumn(\"days_rank\",F.rank().over(Window.partitionBy(groupByColumns).orderBy(dateColumn)))\n",
        "              .groupBy(*groupByColumns)\n",
        "              .agg(\n",
        "                  F.max('recencyValue').alias('recencyValue'),\n",
        "                  F.sum('monetaryValue').alias('monetaryValue'),\n",
        "                  F.countDistinct(frequencyColumn).alias('frequencyValue'),\n",
        "                  F.countDistinct('transactionDate').alias('distinctDatesValue'),\n",
        "                  F.countDistinct('InvoiceNo').alias('distinctOrdersValue'),\n",
        "                  F.countDistinct('productDescription').alias('distinctProductsValue'),\n",
        "                  )\n",
        "              )\n",
        "\n",
        "    return dfRFM"
      ],
      "metadata": {
        "id": "2HVEhplLugDP"
      },
      "execution_count": 10,
      "outputs": []
    },
    {
      "cell_type": "code",
      "source": [
        "dfRFM = create_rfm_dataframe(\n",
        "    df = df,\n",
        "    groupByColumns = ['customerID','additionalSegmentation'],\n",
        "    frequencyColumn = 'invoiceNo',\n",
        "    dateColumn = 'transactionDate',\n",
        "    )"
      ],
      "metadata": {
        "id": "fnWGHxQ71slu"
      },
      "execution_count": 11,
      "outputs": []
    },
    {
      "cell_type": "markdown",
      "source": [
        "# Create Bucket in order to build the classic RFM model"
      ],
      "metadata": {
        "id": "NSj5kNeC2C7F"
      }
    },
    {
      "cell_type": "code",
      "source": [
        "def create_ranges(\n",
        "    df: DataFrame,\n",
        "    num_buckets: int,\n",
        "    column_name: str\n",
        "    ):\n",
        "\n",
        "  qds = QuantileDiscretizer(numBuckets=num_buckets, inputCol=column_name, outputCol=column_name+\"Quantile\", relativeError=0.01, handleInvalid=\"error\")\n",
        "  bucketizer = qds.fit(df)\n",
        "  df = bucketizer.setHandleInvalid(\"skip\").transform(df)\n",
        "  df = (df.withColumn(column_name+\"Quantile\", (F.col(column_name+\"Quantile\")+1).cast('int')))\n",
        "\n",
        "  return df"
      ],
      "metadata": {
        "id": "gTmqKLcRp9q4"
      },
      "execution_count": 12,
      "outputs": []
    },
    {
      "cell_type": "code",
      "source": [
        "for i in ['recencyValue','frequencyValue','monetaryValue']:\n",
        "  dfRFM = create_ranges(dfRFM, 5, i)"
      ],
      "metadata": {
        "id": "i-M3XpCt2Muu"
      },
      "execution_count": 13,
      "outputs": []
    },
    {
      "cell_type": "markdown",
      "source": [
        "# Create RFM Score\n",
        "\n",
        "## Create a concatenation of R, F and M and build some basic Scoring metrics. This metrics could be the Sum, Avg or another one that the business analyst wants to create"
      ],
      "metadata": {
        "id": "BNtG5LSV2Sqq"
      }
    },
    {
      "cell_type": "code",
      "source": [
        "dfRFM = (dfRFM\n",
        "         .withColumn('RFMConcat',\n",
        "                     F.concat(\n",
        "                        F.col('recencyValueQuantile').cast('int').cast('string'),\n",
        "                        F.col('frequencyValueQuantile').cast('int').cast('string'),\n",
        "                        F.col('monetaryValueQuantile').cast('int').cast('string')\n",
        "                        )\n",
        "                     )\n",
        "         .withColumn('RFMSumScore',\n",
        "                        (\n",
        "                        F.col('recencyValueQuantile')+F.col('frequencyValueQuantile')+F.col('monetaryValueQuantile')\n",
        "                        ).cast('int')\n",
        "                     )\n",
        "         .withColumn('RFMAvgScore',\n",
        "                        (\n",
        "                        (F.col('recencyValueQuantile')+F.col('frequencyValueQuantile')+F.col('monetaryValueQuantile'))/3\n",
        "                        ).cast('double')\n",
        "                     )\n",
        "         )"
      ],
      "metadata": {
        "id": "tXlzKLBq8ckV"
      },
      "execution_count": 14,
      "outputs": []
    },
    {
      "cell_type": "markdown",
      "source": [
        "# Create the basic structure for RFM Segmentation.\n",
        "\n",
        "## It is up to the business analyst to choose wich columns to use, in this example I am going to use Recency and Frequency"
      ],
      "metadata": {
        "id": "aU-MkEat3Ioj"
      }
    },
    {
      "cell_type": "code",
      "source": [
        "def create_basic_rfm(\n",
        "    df: DataFrame,\n",
        "    yColumn: str,\n",
        "    xColumn: str\n",
        "    ) -> DataFrame:\n",
        "\n",
        "    dfRFMSegmentation = (dfRFM\n",
        "                         .withColumn('rfmSegmentation',\n",
        "                                      F.when(\n",
        "                                          (F.col(yColumn).isin(4,5))\n",
        "                                          & (F.col(xColumn).isin(5))\n",
        "                                          , F.lit('Champions')\n",
        "                                          )\n",
        "                                      .when(\n",
        "                                          (F.col(yColumn).isin(2,3))\n",
        "                                          & (F.col(xColumn).isin(4,5))\n",
        "                                          , F.lit('Potential Loyalists')\n",
        "                                          )\n",
        "                                      .when(\n",
        "                                          (F.col(yColumn).isin(1))\n",
        "                                          & (F.col(xColumn).isin(5))\n",
        "                                          , F.lit('New Clients')\n",
        "                                          )\n",
        "                                      .when(\n",
        "                                          (F.col(yColumn).isin(1))\n",
        "                                          & (F.col(xColumn).isin(4))\n",
        "                                          , F.lit('Promissing')\n",
        "                                          )\n",
        "                                      .when(\n",
        "                                          (F.col(yColumn).isin(4,5))\n",
        "                                          & (F.col(xColumn).isin(3,4))\n",
        "                                          , F.lit('Loyal Customers')\n",
        "                                          )\n",
        "                                      .when(\n",
        "                                          (F.col(yColumn).isin(3))\n",
        "                                          & (F.col(xColumn).isin(3))\n",
        "                                          , F.lit('Need Attention')\n",
        "                                          )\n",
        "                                      .when(\n",
        "                                          (F.col(yColumn).isin(1,2))\n",
        "                                          & (F.col(xColumn).isin(3))\n",
        "                                          , F.lit('About To Sleep')\n",
        "                                          )\n",
        "                                      .when(\n",
        "                                          (F.col(yColumn).isin(5))\n",
        "                                          & (F.col(xColumn).isin(1,2))\n",
        "                                          , F.lit('Cant Loose')\n",
        "                                          )\n",
        "                                      .when(\n",
        "                                          (F.col(yColumn).isin(3,4))\n",
        "                                          & (F.col(xColumn).isin(1,2))\n",
        "                                          , F.lit('At Risk')\n",
        "                                          )\n",
        "                                      .when(\n",
        "                                          (F.col(yColumn).isin(1,2))\n",
        "                                          & (F.col(xColumn).isin(1,2))\n",
        "                                          , F.lit('Hibernating')\n",
        "                                          )\n",
        "                          .otherwise(F.lit('Missing'))\n",
        "                          )\n",
        "                     )\n",
        "\n",
        "    return dfRFMSegmentation"
      ],
      "metadata": {
        "id": "uYyzgyt63HOU"
      },
      "execution_count": 15,
      "outputs": []
    },
    {
      "cell_type": "code",
      "source": [
        "dfRFMSegmentation = create_basic_rfm(\n",
        "    df = df,\n",
        "    yColumn = 'frequencyValueQuantile',\n",
        "    xColumn = 'recencyValueQuantile'\n",
        "    )"
      ],
      "metadata": {
        "id": "GO8wtB166Q9S"
      },
      "execution_count": 16,
      "outputs": []
    },
    {
      "cell_type": "code",
      "source": [
        "(dfRFMSegmentation\n",
        " .groupBy('rfmSegmentation')\n",
        " .agg(\n",
        "    F.max('RFMConcat').alias('max_RFMConcat'),\n",
        "    F.min('RFMConcat').alias('min_RFMConcat'),\n",
        "    F.count('customerID').alias('count_customer'),\n",
        "    F.avg('recencyValue').cast('decimal(10,2)').alias('avg_recencyValue'),\n",
        "    F.avg('frequencyValue').cast('decimal(10,2)').alias('avg_frequencyValue'),\n",
        "    F.avg('monetaryValue').cast('decimal(10,2)').alias('avg_monetaryValue'),\n",
        "    )\n",
        " .orderBy('max_RFMConcat', ascending=False)\n",
        " ).show(10, False)"
      ],
      "metadata": {
        "colab": {
          "base_uri": "https://localhost:8080/"
        },
        "id": "VfHQePLiopq3",
        "outputId": "4ef07ba6-073b-4c3b-8727-15b5185f4417"
      },
      "execution_count": 17,
      "outputs": [
        {
          "output_type": "stream",
          "name": "stdout",
          "text": [
            "+-------------------+-------------+-------------+--------------+----------------+------------------+-----------------+\n",
            "|rfmSegmentation    |max_RFMConcat|min_RFMConcat|count_customer|avg_recencyValue|avg_frequencyValue|avg_monetaryValue|\n",
            "+-------------------+-------------+-------------+--------------+----------------+------------------+-----------------+\n",
            "|Champions          |555          |541          |120           |-57.45          |3.96              |1233.92          |\n",
            "|Potential Loyalists|535          |421          |1344          |-87.29          |1.29              |501.49           |\n",
            "|Loyal Customers    |455          |341          |694           |-212.64         |4.95              |1618.65          |\n",
            "|Need Attention     |335          |331          |186           |-249.68         |2.00              |589.27           |\n",
            "|About To Sleep     |325          |321          |264           |-247.89         |1.00              |269.46           |\n",
            "|Cant Loose         |255          |151          |777           |-346.93         |12.27             |5452.32          |\n",
            "|At Risk            |245          |131          |610           |-334.12         |2.87              |873.07           |\n",
            "|Hibernating        |225          |121          |286           |-331.74         |1.00              |528.60           |\n",
            "+-------------------+-------------+-------------+--------------+----------------+------------------+-----------------+\n",
            "\n"
          ]
        }
      ]
    },
    {
      "cell_type": "code",
      "source": [
        "import matplotlib.pyplot as plt\n",
        "import squarify\n",
        "\n",
        "dfGraph = (dfRFMSegmentation.select('customerID','rfmSegmentation').groupBy('rfmSegmentation').count().orderBy('rfmSegmentation')).toPandas()\n",
        "\n",
        "fig, ax = plt.subplots(1, figsize = (16,5))\n",
        "\n",
        "squarify.plot(sizes=dfGraph['count'],\n",
        "              label=dfGraph['rfmSegmentation'],\n",
        "              alpha=.8,\n",
        "             )\n",
        "plt.axis('off')\n",
        "plt.show()"
      ],
      "metadata": {
        "colab": {
          "base_uri": "https://localhost:8080/",
          "height": 422
        },
        "id": "1EqlbtcS3hRI",
        "outputId": "85858d84-6d1d-4c8c-8488-02c9366b1bb8"
      },
      "execution_count": 18,
      "outputs": [
        {
          "output_type": "display_data",
          "data": {
            "text/plain": [
              "<Figure size 1600x500 with 1 Axes>"
            ],
            "image/png": "[encoded data removed]"
          },
          "metadata": {}
        }
      ]
    },
    {
      "cell_type": "code",
      "source": [
        "dfGraph = (dfRFMSegmentation.select('customerID','monetaryValueQuantile','frequencyValueQuantile','recencyValueQuantile','monetaryValue','rfmSegmentation')).toPandas()\n",
        "fig = px.density_heatmap(dfGraph, x=\"recencyValueQuantile\", y=\"monetaryValueQuantile\", z=\"monetaryValue\", histfunc=\"avg\", color_continuous_scale=\"Viridis\")\n",
        "fig.show()"
      ],
      "metadata": {
        "colab": {
          "base_uri": "https://localhost:8080/",
          "height": 542
        },
        "id": "dZrgKdQ1808s",
        "outputId": "95e409d9-ee3f-4e21-dd8a-7decdb9ba68c"
      },
      "execution_count": 19,
      "outputs": [
        {
          "output_type": "display_data",
          "data": {
            "text/html": [
              "<html>\n",
              "<head><meta charset=\"utf-8\" /></head>\n",
              "<body>\n",
              "    <div>            <script src=\"https://cdnjs.cloudflare.com/ajax/libs/mathjax/2.7.5/MathJax.js?config=TeX-AMS-MML_SVG\"></script><script type=\"text/javascript\">if (window.MathJax && window.MathJax.Hub && window.MathJax.Hub.Config) {window.MathJax.Hub.Config({SVG: {font: \"STIX-Web\"}});}</script>                <script type=\"text/javascript\">window.PlotlyConfig = {MathJaxConfig: 'local'};</script>\n",
              "        <script src=\"https://cdn.plot.ly/plotly-2.18.2.min.js\"></script>                <div id=\"ce896bfb-f602-4e28-8351-cd25ed8cab23\" class=\"plotly-graph-div\" style=\"height:525px; width:100%;\"></div>            <script type=\"text/javascript\">                                    window.PLOTLYENV=window.PLOTLYENV || {};                                    if (document.getElementById(\"ce896bfb-f602-4e28-8351-cd25ed8cab23\")) {                    Plotly.newPlot(                        \"ce896bfb-f602-4e28-8351-cd25ed8cab23\",                        [{\"coloraxis\":\"coloraxis\",\"histfunc\":\"avg\",\"hovertemplate\":\"recencyValueQuantile=%{x}<br>monetaryValueQuantile=%{y}<br>avg of monetaryValue=%{z}<extra></extra>\",\"name\":\"\",\"x\":[2,1,1,5,2,2,4,3,3,2,5,4,2,4,2,2,3,4,2,5,1,1,5,2,2,5,4,1,4,4,4,4,1,4,1,2,5,5,2,3,5,1,4,5,3,2,2,5,4,4,3,3,4,2,4,2,2,2,1,3,4,5,2,2,4,1,4,5,4,1,2,3,1,5,1,2,4,1,3,3,4,2,4,1,5,4,5,5,3,5,4,4,2,5,4,5,2,4,3,3,2,4,2,3,2,4,2,1,1,4,2,5,1,2,5,5,2,1,2,2,5,2,2,5,4,4,1,5,5,2,2,2,5,3,2,5,2,2,5,4,3,1,4,4,4,5,3,4,5,2,2,4,2,2,2,5,5,4,4,5,5,2,1,3,5,3,5,3,4,5,1,5,2,4,1,5,2,4,2,4,3,2,4,1,3,4,5,3,2,2,1,2,5,3,5,2,1,3,2,5,5,5,4,3,2,3,3,2,3,3,2,2,1,2,5,5,3,5,2,4,5,5,3,3,4,2,5,5,3,4,1,3,3,4,2,2,4,5,5,5,2,4,2,5,3,5,4,4,2,4,2,5,1,4,3,5,2,2,2,2,3,5,5,5,5,1,4,2,5,1,3,3,2,2,4,2,1,2,4,1,1,1,3,4,1,4,4,4,1,2,4,4,4,3,3,5,5,4,1,2,1,1,4,1,5,2,4,4,3,5,5,1,1,4,5,2,1,1,2,2,4,1,4,3,1,2,2,1,4,5,4,2,1,1,3,4,5,1,2,1,3,3,3,5,1,2,1,3,4,5,2,2,1,2,1,5,5,1,4,5,4,1,3,1,4,5,1,4,4,1,4,2,5,4,4,4,3,3,2,3,4,2,5,1,5,4,1,4,3,4,4,3,2,4,1,1,3,1,2,3,4,2,5,3,4,2,2,2,1,5,2,5,4,2,1,1,4,1,3,4,1,3,4,3,5,4,4,4,3,3,5,5,4,2,3,3,4,5,3,3,5,1,1,2,4,5,1,4,5,2,5,1,2,4,1,2,2,5,3,5,2,4,1,1,2,1,3,3,5,2,5,5,3,2,2,4,1,4,5,1,4,2,1,4,3,4,2,4,3,5,5,4,2,1,2,4,2,3,5,2,3,1,2,2,3,1,3,5,2,1,2,1,3,3,4,5,2,1,4,3,5,1,1,4,1,1,3,3,2,5,3,2,4,3,1,2,2,1,3,3,4,3,3,5,4,2,1,5,5,1,4,3,4,1,1,4,4,1,2,5,2,1,1,5,1,1,1,5,1,2,3,1,5,1,4,2,1,4,2,1,4,4,1,2,3,3,3,1,1,5,4,4,3,2,3,3,2,1,3,1,2,5,2,1,5,4,1,2,2,5,1,2,2,4,5,2,2,2,2,4,2,3,5,2,1,1,5,5,1,5,2,2,3,4,2,5,5,4,5,4,3,1,1,4,3,5,2,1,4,1,5,4,3,4,4,3,1,4,4,2,3,4,3,1,3,2,3,4,1,3,1,3,4,4,5,2,5,4,3,2,1,4,5,5,2,3,2,3,3,1,3,1,1,5,4,4,4,4,5,5,2,3,5,2,2,4,2,3,1,4,5,5,3,4,2,2,1,4,4,2,2,4,2,5,3,1,5,1,3,4,5,5,1,5,1,2,1,2,5,2,5,4,4,3,3,4,3,2,5,5,5,5,5,5,5,4,5,3,3,5,2,5,5,3,2,1,1,4,3,4,3,4,2,3,4,2,4,3,5,4,2,4,2,2,4,1,5,3,2,1,2,4,4,5,4,1,5,4,2,5,2,1,3,5,5,4,4,4,4,5,4,3,4,5,1,5,3,2,3,2,1,4,1,5,4,3,5,4,5,1,4,5,2,3,2,3,2,3,3,3,5,3,3,4,1,1,2,1,3,2,2,1,1,1,3,4,2,2,5,5,3,1,4,3,2,4,3,4,5,3,3,4,5,5,1,5,5,1,3,3,2,4,1,5,3,1,5,2,2,3,4,3,3,2,2,4,3,5,5,3,3,4,1,2,5,4,1,3,3,4,3,4,1,3,1,2,4,2,5,3,4,2,3,3,2,5,5,5,1,2,3,5,5,3,5,2,1,2,2,4,4,4,2,3,1,2,2,3,3,2,5,2,3,5,5,3,4,4,4,3,1,3,5,1,3,3,2,4,4,2,3,4,2,4,1,4,5,2,5,2,2,4,4,2,5,4,5,5,3,1,3,5,4,2,2,4,1,2,2,3,2,5,3,3,1,3,2,2,3,3,5,3,3,2,4,5,2,4,3,5,3,3,4,5,3,3,2,3,2,4,1,1,2,2,3,2,2,5,1,1,5,3,4,3,5,2,1,1,3,3,5,1,4,4,3,2,2,1,1,5,4,2,1,2,2,5,2,3,2,5,5,1,4,2,5,3,4,4,4,2,5,2,2,3,5,4,2,4,4,5,1,5,4,3,2,1,1,5,5,1,4,4,2,5,1,4,5,2,4,2,3,2,5,3,5,1,2,2,2,1,2,5,4,5,1,2,5,3,2,4,5,4,3,4,1,5,2,2,4,5,2,3,3,2,2,3,2,5,4,3,4,2,5,5,4,5,5,4,2,4,3,2,4,3,4,4,5,2,4,1,3,5,1,4,3,2,3,1,5,2,3,1,5,3,1,4,1,2,4,2,5,3,4,5,5,5,1,1,1,3,5,3,3,3,4,5,2,4,3,1,3,1,4,2,3,2,4,3,3,5,5,1,4,4,3,3,3,4,5,4,1,1,1,4,2,2,1,4,5,2,3,2,1,2,1,2,2,4,1,5,4,5,4,2,1,3,1,1,3,3,4,2,3,5,3,4,3,1,4,5,1,1,1,1,5,2,5,2,1,5,4,5,1,4,2,5,4,3,1,4,5,3,3,3,1,2,4,4,5,5,5,2,3,3,2,4,2,1,5,5,5,4,1,4,3,1,2,3,3,1,3,3,3,2,2,5,1,1,2,3,5,3,2,4,3,5,2,1,4,4,5,1,5,2,2,1,3,3,2,3,4,3,3,1,5,3,3,4,2,1,2,4,3,1,5,1,5,5,1,2,4,3,2,3,2,2,2,3,2,5,3,1,1,2,2,3,4,2,1,3,3,3,2,4,5,1,2,2,4,5,3,3,4,3,2,3,3,3,2,3,4,1,4,5,3,4,3,2,1,3,3,1,5,3,1,1,5,4,3,4,5,1,1,3,2,4,3,5,2,2,3,3,4,2,4,4,5,1,4,3,4,3,3,2,4,1,5,2,3,5,3,4,3,3,5,1,5,5,4,4,5,3,3,2,2,1,4,3,2,5,5,4,5,2,4,1,4,1,3,1,1,3,4,1,3,1,4,3,3,1,2,2,5,1,1,1,5,4,1,4,3,3,3,5,2,5,2,2,4,5,4,1,2,2,1,3,2,1,3,3,1,1,2,4,4,4,4,2,4,4,3,2,4,2,1,2,2,1,3,5,2,3,4,1,5,2,3,3,5,5,1,5,4,1,4,5,4,1,2,1,3,4,2,2,4,3,1,1,3,4,4,3,2,2,3,4,5,5,4,4,1,1,1,5,4,2,1,1,2,3,3,5,3,5,2,2,4,1,1,3,5,2,2,5,4,4,2,5,2,5,1,4,2,1,4,4,5,3,2,1,1,1,5,5,5,4,4,5,3,2,1,3,5,4,1,2,4,5,2,5,1,3,1,2,2,3,2,1,4,3,5,1,3,3,5,2,3,3,3,5,1,3,5,5,1,2,3,1,4,3,3,5,2,3,2,2,4,2,4,5,2,5,2,5,1,2,3,2,1,5,2,1,3,1,4,1,4,4,3,2,3,1,3,5,3,3,2,1,5,4,1,1,5,3,4,1,5,2,4,3,4,4,1,5,3,1,3,3,2,1,1,1,2,1,2,1,1,2,3,1,5,4,2,2,5,5,3,3,2,2,3,5,4,1,4,1,2,4,1,2,2,2,5,2,2,5,5,3,5,5,2,4,1,2,5,1,5,2,5,2,5,4,1,1,5,4,3,3,4,4,4,4,1,2,1,5,3,5,4,3,1,2,3,4,1,2,3,3,3,3,4,5,4,4,5,5,4,5,4,2,3,4,3,1,4,3,1,2,5,5,3,4,3,5,4,2,3,4,5,5,2,1,2,1,1,5,3,5,3,1,5,5,1,3,1,3,2,4,3,4,5,3,5,3,3,1,3,2,3,4,2,5,4,3,5,5,1,5,5,3,3,2,4,1,3,4,3,4,5,5,5,2,5,4,3,5,5,2,2,3,4,1,1,3,3,4,3,5,1,4,1,5,4,5,5,1,4,4,5,1,3,1,5,1,1,5,3,3,1,3,3,1,2,1,4,4,1,1,4,4,5,1,3,2,3,1,3,5,4,2,3,5,2,2,2,5,1,1,3,2,5,3,3,4,1,3,4,4,5,4,1,1,1,3,3,5,4,2,5,2,1,4,5,5,4,5,1,1,4,3,4,3,1,3,3,2,1,5,2,5,4,3,3,4,2,2,4,4,3,5,3,2,4,3,2,3,3,4,2,3,5,3,2,3,2,3,5,4,3,4,5,5,5,1,5,1,1,4,2,1,2,5,2,3,2,5,3,2,1,3,3,4,4,3,2,1,5,1,5,1,4,2,3,2,1,4,3,1,3,1,3,2,3,4,4,2,4,3,1,2,3,1,3,2,2,2,3,4,3,1,2,3,4,5,2,2,5,3,3,1,4,3,3,4,4,4,5,4,2,3,1,4,2,4,5,3,2,4,5,2,1,4,5,5,5,5,1,4,2,5,5,1,3,1,1,4,2,5,1,1,5,1,2,1,4,4,3,1,1,4,4,2,5,2,5,2,5,4,2,5,4,5,1,4,4,5,2,5,4,4,5,5,2,1,5,4,1,1,1,5,1,1,5,1,1,3,2,1,3,5,2,4,1,4,3,1,4,3,2,1,5,4,3,4,1,3,1,2,4,2,5,5,3,4,4,2,2,3,3,4,4,3,2,3,5,5,2,2,5,3,1,5,5,5,5,3,4,5,3,3,4,4,2,5,3,2,2,3,5,3,4,1,1,3,5,1,4,5,2,1,5,4,5,4,5,4,5,5,5,4,1,3,5,1,4,3,3,5,3,4,2,1,5,1,1,5,4,4,4,3,2,5,1,1,1,5,3,2,5,3,4,5,5,1,5,1,3,1,3,5,1,4,2,4,5,5,4,2,1,1,1,2,2,5,3,5,3,1,5,5,3,2,1,5,5,5,2,1,5,3,5,1,5,2,4,2,1,3,4,4,2,2,5,5,3,1,5,5,4,1,1,5,1,2,2,4,4,5,2,5,1,4,5,1,5,3,4,3,3,2,1,4,3,5,3,5,4,1,1,3,3,5,1,3,1,3,4,4,5,3,2,5,1,5,1,2,4,5,3,5,3,3,2,3,2,3,3,2,5,5,4,1,3,4,2,1,4,3,5,1,3,2,5,4,4,3,3,4,4,4,1,2,2,1,5,1,3,2,5,5,2,1,2,5,1,3,4,1,3,4,3,1,5,5,4,3,4,4,5,2,1,1,3,2,3,3,5,1,5,5,3,5,3,2,5,5,3,4,1,1,2,4,5,2,4,5,1,5,4,3,4,2,2,2,3,4,5,4,1,3,5,1,2,2,1,2,3,5,3,3,2,5,1,4,4,1,4,5,2,3,3,2,5,5,1,4,4,2,2,5,2,2,4,4,5,1,3,1,5,1,1,3,1,4,2,3,4,1,3,5,5,2,5,1,1,1,5,4,5,5,1,3,1,4,4,1,1,5,4,3,5,3,4,4,2,3,1,3,3,1,4,4,1,1,4,5,2,4,3,5,2,2,2,4,3,1,5,5,5,1,2,3,1,1,5,5,5,1,2,4,2,2,1,2,5,3,5,5,3,2,1,1,3,5,1,5,2,5,5,5,1,1,5,1,3,3,3,4,4,1,1,4,1,2,5,1,5,4,1,5,3,3,5,5,5,2,1,2,3,1,2,3,1,4,3,4,2,2,2,1,5,4,5,4,4,5,2,1,1,3,1,4,5,5,2,2,4,2,5,3,1,1,2,2,1,4,3,3,3,3,1,3,5,4,3,5,3,5,4,5,2,2,4,4,4,2,3,4,5,5,3,1,5,2,1,2,5,3,3,2,1,3,3,4,1,4,3,1,3,1,3,4,2,4,1,3,1,2,5,3,5,1,3,1,5,1,5,3,5,3,4,4,3,5,4,5,3,5,2,5,3,3,1,2,3,5,5,2,3,5,4,4,1,1,5,4,2,5,2,3,1,4,2,5,3,5,3,3,1,1,2,3,3,3,3,3,3,3,1,2,5,4,5,1,3,5,1,3,4,5,3,1,3,1,3,4,3,5,3,1,4,5,1,1,4,1,4,4,4,4,5,2,4,5,4,4,1,5,3,4,4,2,4,1,3,5,5,2,1,2,5,3,3,2,5,4,4,3,2,1,4,2,2,5,4,2,4,4,4,5,4,5,5,3,2,2,2,5,1,5,3,3,4,2,4,5,4,5,4,1,5,1,5,4,3,5,3,5,2,5,5,3,3,1,3,2,2,3,1,2,2,3,3,4,2,1,2,5,2,5,2,2,1,5,5,3,5,5,3,2,1,5,4,2,3,2,4,5,2,5,5,2,5,3,2,1,3,5,4,4,4,3,4,4,1,1,3,1,5,4,2,4,4,2,5,3,1,3,2,4,3,1,5,5,5,5,4,5,4,5,2,2,3,2,2,4,1,2,1,5,5,5,2,1,3,5,2,5,3,2,1,1,2,1,4,5,5,4,1,2,5,5,4,1,5,4,1,2,1,2,1,1,3,4,1,4,1,1,5,5,1,2,2,5,2,3,3,2,5,4,4,1,3,3,3,4,5,2,4,5,5,1,5,2,2,5,5,4,1,3,3,4,2,5,4,4,2,3,3,3,3,4,3,3,5,3,4,3,1,3,1,3,4,4,3,3,4,5,5,3,5,1,2,1,3,1,2,1,5,2,3,5,1,4,3,4,2,3,1,5,3,4,1,5,1,5,5,4,2,3,3,3,3,1,1,1,4,5,3,1,2,3,1,2,2,1,1,1,5,3,1,4,1,1,1,3,3,2,5,4,2,5,4,1,4,2,1,5,2,3,5,1,5,1,2,3,2,5,5,4,4,4,4,2,3,2,3,3,1,2,5,4,1,5,3,3,1,3,1,1,5,3,5,5,2,3,5,4,1,4,5,3,5,3,1,3,3,3,3,4,5,1,4,1,1,1,4,4,3,4,4,5,4,4,5,3,2,3,1,4,3,2,1,2,2,2,5,5,5,4,2,5,4,5,5,1,3,4,1,4,4,3,4,1,2,4,5,4,2,1,5,1,5,2,1,4,1,5,2,1,1,5,4,5,1,1,3,1,5,4,2,2,5,2,1,3,2,1,5,1,5,1,1,1,4,5,1,5,3,5,5,2,2,3,2,1,3,2,1,2,4,1,1,5,3,4,3,4,4,3,3,4,4,4,5,3,5,2,2,5,1,4,1,5,4,5,4,2,1,2,2,5,1,2,4,5,1,5,5,5,4,1,2,1,5,4,1,1,2,5,4,1,2,2,4,5,4,1,3,3,5,3,4,4,2,3,2,4,5,4,3,3,1,3,3,1,2,2,1,1,4,2,4,2,1,5,5,3,5,2,2,5,1,5,3,1,1,3,2,2,3,1,5,4,3,2,3,3,4,5,2,3,2,2,5,3,4,4,4,5,1,5,3,3,1,3,2,3,3,5,1,2,5,3,5,5,4,4,1,4,3,2,5,3,2,4,4,2,5,4,3,2,4,1,2,1,4,3,1,1,4,1,4,5,1,5,5,3,5,5,1,3,1,1,3,1,5,1,5,5,1,2,1,1,4,1,1,5,5,4,1,1,5,1,2,4,1,5,4,5,4,3,1,4,5,5,2,2,1,1,4,4,4,4,4,3,5,2,3,5,2,2,5,1,1,4,5,2,1,5,5,4,4,5,2,1,2,4,2,4,5,2,1,4,1,5,2,1,3,2,5,4,5,2,2,1,1,1,1,1,5,4,1,4,2,4,5,3,4,5,2,5,1,5,4,2,2,2,2,3,2,4,1,1,2,3,1,2,1,5,1,5,5,3,5,4,5,2,2,4,1,3,1,5,3,1,1,5,1,4,1,4,3,3,3,1,5,3,2,1,1,2,3,5,3,5,1,3,1,2,5,4,5,3,3,2,3,4,2,5,1,1,4,5,1,4,1,2,5,5,1,5,2,2,4,5,5,4,1,2,5,5,4,4,3,3,4,1,3,5,1,5,2,5,3,5,5,2,4,5,2,3,5,5,1,2,5,4,2,2,2,1,5,4,3,5,1,1,1,3,5,1,4,5,3,2,5,2,3,5,3,5,3,1,1,4,4,2,4,5,2,5,4,5,5,1,2,2,1,4,3,1,3,4,1,1,3,4,2,3,3,5,1,1,3,5,1,3,5,3,2,5,2,5,2,1,2,2,5,3,1,2,5,1,5,3,3,5,1,3,3,4,2,5,4,3,4,4,1,3,1,5,3,4,5,4,3,4,3,1,4,3,1,4,2,3,5,2,5,3,3,1,2,2,1,1,1,1,3,5,5,1,5,1,2,1,1,1,4,4,4,1,3,3,3,4,4,3,2,1,2,2,4,2,5,2,3,3,3,1,1,3,4,3,5,4,2,4,1,3,3,1,4,5,3,1,2,1,3,4,3,4,3,1,3,4,1,5,3,3,5,4,2,3,2,5,2,4,4,3,3,5,2,1,4,3,1,5,5,3,1,4,1,2,1,5,5,1,2,1,5,1,3,1,5,1,4,2,2,5,5,5,5,4,1,5,1,2,4,1,2,1,5,3,1,3,1,1,2,1,2,2,1,3,1,4,2,1,1,4,1,3,4,5,4,1,2,3,1,5,3,4,1,2,1,4,4,3,1,5,5,1,4,4,4,5,1,3,1,5,1,1,1,4,1,3,3,5,1,4,3,2,3,3,3,5,4,5,1,4,4,5,3,5,4,1,1,1,1,3,3,5,4,4,1,4,1,1,4,1,1,1,3,3,5,3,1,1,5,1,3,1,4,5,4,2,1,3,2,4,1,4,1,5,5,2,3,3,1,4,5,5,1,4,5,5,4,4,5,2,5,5,5,3,1,3,1,5,1,1,5,4,1,5,1,2,5,5,1,2,3,1,5,5,2,2,1,4,4,1,1,1,3,3,3,4,5,1,3,5,1,2,2,2,5,1,4,4,1,5,5,2,3,1,5,4,1,2,1,5,1,1,3,4,4,5,2,5,4,3,5,4,2,2,5,3,4,1,2,3,4,3,4,2,5,2,1,4,2,4,2,5,4,4,1,5,3,2,2,3,1,3,1,2,4,5,3,3,2,3,2,3,5,4,5,2,2,4,2,4,4,5,5,3,3,2,3,4,5,5,3,1,3,3,1,3,1,2,3,5,1,2,2,4,2,3,3,4,1,5,3,3,1,3,4,5,2,4,4,4,2,1,1,4,4,3,4,1,3,3,5,5,5,3,4,4,2,4,3,1,3,4,3,2,1,3,5,5,5,4,5],\"xaxis\":\"x\",\"xbingroup\":\"x\",\"y\":[5,5,4,4,2,4,1,4,2,5,5,2,5,5,1,5,3,3,2,1,1,5,4,4,2,3,2,4,5,3,5,4,4,2,2,5,3,3,4,2,3,5,5,4,3,1,1,1,4,5,4,5,5,3,4,3,2,5,5,2,3,3,3,2,2,4,5,3,3,3,5,2,5,1,5,3,5,5,3,5,2,5,5,1,1,5,1,4,3,2,5,1,5,2,3,5,4,2,5,4,3,3,4,4,4,3,3,5,5,5,5,3,5,5,3,2,5,5,5,5,4,2,5,2,1,2,4,3,2,5,4,5,3,1,4,2,1,4,1,3,4,2,3,5,4,2,5,3,1,4,5,4,1,4,4,1,2,4,3,5,2,5,5,3,2,3,4,1,1,3,1,2,5,3,5,2,3,4,1,5,2,1,2,5,5,2,4,1,1,4,3,5,2,2,1,2,5,5,4,1,1,1,3,5,2,2,2,5,1,5,5,3,4,3,1,3,1,4,4,4,4,1,5,2,5,3,2,1,4,4,5,1,2,3,5,5,5,3,4,2,5,4,5,2,2,4,1,4,5,3,4,4,5,2,3,1,1,3,5,3,5,4,3,1,2,5,1,1,2,5,4,5,2,3,4,4,5,4,4,5,5,5,4,5,1,5,4,2,4,3,3,3,3,5,3,1,2,4,5,3,5,5,3,5,3,5,2,3,3,1,3,5,5,4,3,4,1,4,5,3,3,5,2,2,1,3,1,1,4,2,3,5,5,5,5,2,5,5,4,5,5,5,4,4,3,5,5,4,4,3,4,2,5,3,4,4,3,2,2,1,2,1,2,3,3,2,1,5,2,3,2,2,1,1,3,2,1,4,4,1,4,5,2,4,2,4,2,5,1,2,3,2,5,1,3,5,5,5,4,4,2,1,3,4,1,2,5,4,1,5,4,3,4,3,5,4,1,3,2,4,3,4,3,2,4,3,2,4,4,2,2,1,2,2,5,1,3,5,5,5,5,5,2,5,4,1,5,2,1,4,3,5,1,2,5,3,4,4,4,1,5,4,3,3,3,4,5,5,4,4,4,2,5,1,5,2,5,3,1,4,1,2,5,1,3,1,4,2,2,1,4,3,2,5,1,2,2,4,2,4,2,3,5,1,1,5,3,1,2,1,4,5,5,5,3,2,5,5,3,2,2,4,3,4,1,3,4,4,4,3,3,2,2,3,5,4,3,5,2,4,1,1,2,2,2,4,1,2,1,5,1,1,4,2,5,2,1,5,5,2,2,5,5,1,3,5,5,1,5,5,1,5,2,4,1,4,2,3,4,5,5,3,3,4,1,1,3,5,4,2,1,4,1,1,4,5,5,4,5,2,5,2,1,3,1,3,5,4,4,1,4,4,4,4,1,1,4,3,2,3,4,3,1,3,2,5,2,2,5,1,5,4,1,4,2,1,1,4,1,1,4,5,5,4,3,1,4,5,2,4,3,4,2,3,1,4,3,1,5,5,1,2,1,5,4,1,4,3,3,1,3,2,3,1,3,4,2,2,3,3,2,3,2,3,4,1,5,5,5,5,5,5,3,1,2,1,3,2,2,1,3,4,1,1,5,2,3,3,1,1,5,2,1,2,3,1,4,1,4,4,4,3,4,3,5,5,3,5,4,3,1,4,5,3,5,4,3,4,2,5,3,2,3,5,3,2,5,2,2,1,1,4,2,2,3,3,3,3,2,2,5,3,1,5,3,1,3,2,5,3,4,2,5,2,5,3,3,3,3,1,5,2,4,4,2,3,1,2,3,5,4,1,3,3,3,5,1,1,4,5,4,5,2,1,3,3,4,3,5,1,5,2,2,4,5,2,4,5,3,2,4,5,5,1,3,1,3,1,4,5,1,5,2,1,4,4,4,2,4,1,1,2,3,4,3,5,1,4,4,3,1,5,3,2,3,4,4,1,1,2,5,3,5,1,3,4,1,2,1,3,4,5,3,1,5,4,1,5,3,3,5,2,2,1,2,5,5,4,3,2,3,3,4,1,5,5,3,3,1,1,4,3,4,2,3,1,2,2,4,4,2,3,5,4,3,1,3,1,3,5,2,4,4,2,5,2,3,1,5,1,3,2,1,1,3,4,4,4,2,3,1,1,3,2,4,5,4,5,5,4,4,3,3,1,4,2,3,5,2,4,2,5,1,4,5,4,2,2,5,4,4,1,1,2,5,1,2,1,3,2,5,4,1,1,4,1,4,1,4,5,5,1,2,4,1,5,3,2,3,2,5,1,1,1,4,1,4,1,4,3,3,5,2,5,4,2,4,3,3,2,5,3,2,2,1,3,5,4,4,1,1,4,5,1,4,3,2,5,5,5,3,2,4,2,5,4,5,5,5,4,2,5,1,2,1,4,4,1,2,1,4,1,5,3,3,2,5,2,5,1,2,1,4,1,4,3,3,4,4,5,2,2,3,2,3,4,4,1,2,1,4,1,3,3,2,3,5,2,2,4,4,4,5,4,5,1,2,1,4,5,2,3,1,4,5,5,5,5,2,3,4,1,1,4,5,5,4,5,3,3,2,2,3,3,5,2,3,3,5,2,1,3,3,5,2,5,5,3,2,4,2,1,2,4,3,1,2,3,4,2,4,2,3,4,2,1,1,2,3,5,2,1,1,5,3,3,5,5,3,2,4,3,2,1,3,1,5,5,1,2,2,5,2,1,3,1,4,5,3,5,1,5,4,2,3,1,5,5,4,5,1,5,2,5,5,4,3,2,2,1,4,5,4,3,3,2,3,2,1,3,5,5,5,3,4,3,1,4,1,5,1,3,4,1,4,2,5,3,5,2,2,1,4,5,5,1,5,5,3,1,2,2,4,1,4,1,3,4,2,1,3,1,4,5,1,5,1,1,5,2,5,1,5,1,5,4,1,4,5,3,1,5,3,5,5,2,4,1,5,5,3,3,3,4,3,5,3,5,4,1,3,4,2,1,3,5,3,1,2,3,2,4,1,5,2,2,5,4,2,4,5,1,1,2,3,1,5,3,3,4,3,5,3,2,5,5,5,4,5,4,1,3,1,3,1,3,2,1,4,5,5,3,3,4,5,5,1,1,3,5,3,4,4,5,5,4,4,4,4,3,5,3,1,1,5,4,1,2,5,4,4,1,2,5,5,4,5,5,1,4,5,2,2,4,3,1,2,2,4,5,1,5,3,5,5,1,3,4,5,5,5,4,1,4,5,5,1,3,3,5,5,5,5,2,4,1,5,3,2,4,3,1,2,5,3,4,3,5,2,4,3,2,1,5,3,3,1,3,3,1,1,1,4,1,1,1,3,1,4,5,1,5,5,1,1,1,1,3,1,1,2,4,1,1,4,5,3,5,1,5,3,5,3,5,4,4,1,5,5,4,4,4,3,1,2,5,3,4,4,2,3,5,1,2,5,2,4,3,4,4,1,1,1,5,5,5,4,4,3,4,1,3,3,3,2,1,5,1,5,1,5,5,2,3,5,3,2,4,2,3,3,1,3,2,2,3,4,1,2,1,4,4,2,2,5,1,1,3,3,5,3,2,2,5,5,3,5,5,4,2,4,2,1,4,5,2,1,1,4,1,5,5,5,2,3,5,4,4,5,5,1,2,2,3,4,4,1,5,4,5,5,1,2,3,1,1,3,5,2,3,5,3,5,5,3,4,2,1,5,4,1,4,1,1,1,3,4,1,1,4,1,4,3,3,2,4,4,1,2,1,5,5,5,3,3,2,2,4,2,4,1,4,5,3,4,4,1,2,3,3,5,5,1,1,3,4,3,5,2,3,3,1,5,5,2,3,2,5,2,1,3,3,4,1,5,4,2,3,5,3,5,5,3,4,3,5,1,2,5,3,1,4,1,4,1,5,5,5,2,4,4,5,3,5,4,5,1,3,1,4,3,1,4,3,2,2,5,1,5,5,5,4,4,5,4,4,4,4,2,4,2,3,3,5,3,3,4,4,1,2,2,1,2,5,2,5,3,1,3,4,3,2,2,2,1,3,1,3,1,2,4,1,5,1,1,5,1,4,2,3,1,5,5,1,3,2,3,3,2,3,2,4,5,4,3,1,5,1,4,1,5,5,5,2,5,2,3,5,3,5,3,4,4,4,1,1,3,2,5,3,5,3,2,3,3,4,4,3,1,3,3,3,2,3,2,1,1,3,4,3,5,3,4,4,4,2,5,3,2,5,2,2,5,2,3,2,4,4,4,4,3,2,2,5,4,2,4,4,5,4,5,1,2,4,2,2,5,2,2,1,3,3,1,5,1,4,1,3,1,2,1,5,4,1,4,1,1,4,5,1,1,2,1,2,1,1,2,3,4,4,5,3,1,4,2,2,2,1,1,3,2,5,4,5,4,2,3,4,3,2,3,5,5,5,1,2,3,5,1,1,3,5,3,5,2,2,1,4,4,1,3,2,4,5,4,2,5,3,2,5,4,4,3,3,1,4,4,3,3,4,5,3,2,1,2,4,5,2,2,3,5,4,1,2,5,1,4,1,3,4,5,4,1,4,3,4,4,5,5,2,4,4,2,2,3,4,5,1,5,3,4,5,2,3,3,4,1,4,1,5,3,2,5,4,3,3,2,3,5,5,1,2,4,4,2,5,1,2,4,3,1,1,4,4,1,1,1,5,1,3,3,2,2,5,5,3,3,5,5,3,1,4,3,4,2,3,3,4,2,4,1,2,4,3,1,5,2,4,3,3,3,2,2,1,4,5,2,1,1,5,2,4,4,3,4,4,2,3,5,3,2,5,5,3,3,2,4,1,2,3,4,1,1,1,2,4,1,5,3,4,5,3,3,3,1,2,1,1,5,1,2,5,3,5,5,1,5,3,5,5,3,5,3,3,4,1,2,5,3,2,2,1,1,1,1,5,3,1,1,2,4,2,4,4,2,1,3,5,2,2,3,3,2,2,1,2,1,5,3,1,5,5,3,2,2,4,5,3,4,3,4,4,5,1,4,5,4,2,5,3,2,2,1,3,4,1,5,1,2,1,4,3,3,2,2,3,4,2,5,4,1,3,2,5,3,1,4,1,1,1,4,4,1,1,1,2,4,1,4,1,1,2,5,4,1,1,3,3,2,3,4,1,2,2,1,1,2,1,4,5,2,3,3,3,2,2,5,2,4,4,5,1,5,5,1,4,5,3,5,4,4,5,4,5,1,1,5,4,3,4,2,4,1,5,5,1,2,5,2,5,1,1,3,4,1,5,1,5,4,5,4,4,2,1,3,1,1,1,5,2,5,5,3,3,1,2,2,5,2,2,4,1,4,1,1,3,4,5,3,5,3,3,4,2,1,2,3,3,3,2,4,3,2,2,4,4,2,1,3,5,4,1,4,5,1,4,2,1,4,1,5,3,2,4,4,5,2,3,4,3,5,4,5,2,3,2,2,5,4,3,3,3,2,3,4,3,2,1,3,3,3,1,4,2,4,2,1,3,5,2,1,3,1,5,5,5,2,5,3,2,2,4,4,1,5,2,1,1,1,5,2,5,2,3,4,2,5,1,4,4,5,1,4,2,2,3,1,5,3,3,4,1,2,2,5,1,4,1,1,4,4,5,1,1,4,4,1,4,1,5,5,5,3,5,3,3,2,2,3,4,5,2,3,5,3,2,1,2,4,3,2,5,1,4,5,4,1,1,4,3,2,5,5,3,3,4,2,5,5,3,4,5,3,4,5,4,4,5,4,4,1,3,4,3,4,4,2,3,3,4,5,4,1,3,5,4,2,4,1,1,5,2,1,1,1,4,3,5,1,4,4,5,3,1,5,4,1,5,1,2,2,5,2,2,3,2,2,2,1,1,2,1,2,1,1,4,1,2,2,5,1,4,4,1,4,1,4,1,2,3,1,2,2,1,1,3,4,4,1,1,3,5,1,2,2,1,4,4,2,4,3,3,4,5,3,1,3,3,2,3,1,5,2,5,2,2,4,4,5,5,4,5,4,1,4,1,3,1,5,3,4,5,5,5,3,1,4,2,4,2,5,4,5,3,2,4,1,3,5,4,3,3,1,2,1,2,5,2,2,5,2,3,3,2,4,5,4,3,4,2,4,1,2,4,3,3,5,4,4,2,2,4,3,2,3,1,5,1,4,1,5,4,2,4,4,2,3,4,2,1,5,3,4,4,4,2,2,1,5,3,2,4,1,1,1,4,3,2,3,4,3,2,2,2,2,5,3,5,5,5,3,3,3,3,3,3,2,5,1,5,3,2,1,1,5,5,5,5,3,2,4,5,1,4,4,5,4,4,1,4,4,4,4,2,2,2,5,2,5,2,4,3,5,5,4,2,1,5,2,3,4,4,2,3,2,3,3,2,3,5,5,3,3,1,4,2,4,2,5,3,4,4,4,2,2,4,2,4,3,4,3,3,5,5,5,3,4,4,1,1,4,2,5,5,3,1,5,4,3,5,4,2,4,4,2,2,3,4,3,4,4,1,4,4,1,2,5,4,2,3,1,5,2,3,3,3,2,2,5,4,2,3,4,2,2,2,2,3,5,5,2,4,5,1,2,1,3,4,1,2,1,3,4,4,1,4,1,3,5,3,2,3,5,5,5,4,3,1,3,4,2,3,3,4,4,2,3,4,2,5,4,3,3,2,1,1,4,1,5,2,4,4,2,2,5,2,1,2,1,1,5,4,1,1,2,1,1,4,3,4,5,2,1,2,4,2,1,2,3,1,1,4,3,5,2,3,3,2,5,1,1,3,2,2,5,4,1,5,3,1,1,4,4,4,1,3,3,1,2,5,3,5,2,2,3,1,2,2,2,3,4,3,3,4,5,1,2,2,4,2,3,1,2,2,4,3,4,1,1,2,2,4,5,5,1,1,1,3,4,5,4,3,3,4,1,2,3,5,5,3,2,5,3,2,5,2,5,3,3,4,1,3,3,1,5,4,4,3,2,1,2,2,4,3,2,2,2,5,2,1,2,2,1,1,2,1,3,3,5,5,1,1,4,3,3,3,5,2,1,4,1,3,2,5,2,5,2,5,2,4,4,4,1,3,3,3,1,2,3,5,4,3,5,5,3,1,3,1,1,3,1,4,5,4,5,2,4,5,1,1,4,3,5,1,5,4,2,2,4,3,3,1,5,5,5,5,3,3,5,5,4,5,5,4,4,5,3,4,1,2,5,3,3,4,2,4,5,2,3,3,4,3,2,5,4,5,5,3,4,3,5,1,1,4,4,2,1,2,3,2,4,3,5,1,4,5,3,2,3,5,1,3,5,2,1,1,5,2,2,5,1,3,1,4,4,1,2,4,2,2,4,4,2,3,2,4,4,2,3,2,3,3,4,5,2,4,5,3,2,3,3,2,1,1,2,1,4,2,1,2,5,3,5,4,4,5,2,1,2,1,2,2,1,2,1,2,2,1,2,2,3,5,3,5,5,4,1,4,3,2,2,2,1,4,4,3,1,2,2,3,4,3,5,2,5,5,3,4,2,4,5,1,2,3,3,2,3,5,1,5,3,2,1,5,4,2,5,1,3,4,1,4,5,5,4,5,2,4,4,4,1,5,3,2,2,1,3,2,1,1,5,2,2,3,2,2,2,5,4,3,4,5,5,1,4,1,3,4,4,3,2,3,5,4,4,4,3,1,2,3,4,5,4,4,1,1,2,1,4,1,2,4,3,2,4,1,3,3,3,4,4,2,3,4,4,5,5,1,2,3,4,4,5,2,5,3,4,4,5,5,2,5,4,3,4,1,1,2,2,5,4,5,4,4,5,5,5,5,2,4,4,4,4,4,1,3,5,3,1,1,3,3,1,1,3,2,1,2,2,2,3,5,5,2,4,2,5,3,3,4,3,4,1,2,1,1,2,2,4,4,5,4,2,5,1,2,3,1,1,5,1,4,2,3,3,1,5,1,5,2,2,5,4,4,3,2,5,4,1,2,5,1,5,4,1,5,1,5,2,2,2,1,4,4,2,5,5,3,1,1,3,4,2,5,2,4,5,3,1,2,2,2,1,2,1,1,2,2,3,4,1,3,2,2,3,5,1,4,1,1,4,4,1,4,4,4,3,3,4,3,1,2,3,1,4,2,5,1,4,3,5,5,5,5,4,3,3,3,1,2,2,1,3,2,5,5,1,5,3,1,1,2,5,2,3,1,4,3,5,4,1,2,2,1,3,3,2,5,5,1,4,2,3,4,3,3,2,1,5,2,5,1,1,1,2,5,3,4,5,3,2,1,5,3,3,5,5,2,5,4,5,1,4,4,3,4,3,5,2,5,3,4,3,3,5,1,5,2,1,2,2,2,5,2,3,5,3,5,1,3,5,5,4,3,3,1,1,4,2,3,3,3,3,4,1,3,1,5,3,3,1,3,4,2,2,2,5,5,2,3,2,1,2,4,2,3,3,5,4,2,3,2,5,2,5,5,3,1,3,3,1,4,3,3,3,3,1,3,4,4,5,5,2,2,1,3,1,3,1,3,1,1,2,2,3,4,4,3,1,3,3,1,4,3,4,5,2,4,2,2,1,5,1,2,1,5,1,4,3,4,5,4,5,5,4,2,4,5,1,1,5,3,2,1,4,5,4,5,2,2,4,1,1,4,3,3,4,1,4,3,3,4,5,2,3,1,3,3,1,5,4,1,5,4,1,5,5,3,1,5,4,2,5,1,5,2,3,5,2,5,1,4,5,4,2,5,4,5,2,5,1,5,2,5,5,5,2,3,1,2,3,5,2,1,5,4,3,3,5,5,1,2,1,2,2,1,5,1,5,4,5,5,4,5,4,5,5,4,2,3,3,5,2,1,4,5,2,4,1,1,3,1,3,5,5,3,2,3,4,2,2,5,5,3,1,1,4,3,3,1,1,1,2,4,4,2,5,1,2,2,3,3,5,4,4,2,2,5,5,3,4,1,3,5,1,4,4,3,2,1,1,2,1,4,5,2,5,1,1,4,3,5,1,2,1,4,5,5,1,1,4,1,5,2,5,2,3,2,4,1,4,3,2,2,1,3,1,3,3,1,4,1,3,1,3,1,2,1,4,1,1,3,1,1,1,1,3,1,1,2,2,2,2,4,5,4,2,5,2,2,1,4,4,2,4,3,1,2,5,1,1,1,1,1,2,5,2,4,4,3,1,1,3,1,4,1,2,5,1,1,1,2,2,1,2,3,5,1,1,1,3,3,1,1,1,1,3,1,3,4,2,2,1,2,3,5,1,1,1,1,1,1,4,1,1,3,3,1,2,1,1,1,3,2,1,2,5,1,3,5,1,1,1,1,5,2,1,2,5,3,4,5,2,2,1,5,3,1,5,3,5,5,2,3,4,2,3,3,1,1,5,5,5,3,3,5,1,1,5,3,1,2,2,5,1,2,1,2,4,1,5,1,1,3,4,2,4,1,2,1,4,3,4,1,5,3,4,5,5,1,1,3,3,3,2,2,3,2,3,3,4,2,2,4,4,2,4,4,5,5,2,4,4,4,4,2,3,2,5,4,2,1,4,2,4,3,5,1,4,1,5,3,1,5,3,1,1,2,3,3,3,5,2,4,5,1,5,5,1,4,5,5,5,3,3,4,4,4,4,1,5,5,5,3,3,1,2,4,2,1,5,5,5,2,1,3,3,1,2,5,1,2,1,1,1,1,5,4,3,1,1,1,1,1,2,3,1,1,1,2,1],\"yaxis\":\"y\",\"ybingroup\":\"y\",\"z\":[77183.6,3199.7299999999996,754.0,1293.0999999999997,237.59999999999997,1342.24,89.0,901.4200000000003,363.09999999999997,2024.1599999999999,5001.610000000001,318.46000000000004,6057.12,1802.6000000000001,174.90000000000003,4247.53,453.0,537.98,278.9,107.1,146.99999999999997,2371.08,1219.0400000000002,1051.8,254.1,495.8500000000001,260.6,1260.5999999999997,3200.320000000001,656.94,2078.1899999999996,1254.59,1024.1799999999998,364.98,290.70000000000005,2165.11,388.8000000000002,388.32999999999976,1457.1999999999998,337.47999999999996,505.24,1823.68,1922.2999999999997,974.62,509.2099999999999,36.45,176.1,9.9,998.41,2573.8199999999997,1070.2,2329.9300000000003,9189.83,523.25,901.2299999999999,498.9,196.20000000000002,107021.83000000002,2395.5699999999997,205.20000000000002,522.3000000000001,524.82,415.16,358.2,238.8,1102.6499999999999,1741.0400000000002,662.0999999999999,498.0299999999999,639.3199999999999,4389.38,335.42,2680.2599999999998,175.0,4920.310000000001,688.4000000000001,2907.32,10173.989999999998,633.4399999999999,7829.8899999999985,264.90999999999997,3448.9599999999996,2244.5699999999993,85.80000000000001,82.8,3880.4999999999995,17.4,929.2199999999999,405.19,283.25,3320.1699999999996,177.72,6367.269999999999,324.73,613.4899999999998,2734.7400000000002,835.6400000000001,356.36,2064.86,1521.7399999999998,646.0999999999999,593.0400000000001,793.8699999999998,990.2500000000001,957.0500000000001,459.44999999999993,520.9,15078.950000000003,4897.810000000001,1635.3099999999995,5316.629999999999,546.0999999999999,5345.119999999998,10946.670000000002,505.43000000000006,302.24,2380.8700000000003,4157.45,1627.24,2996.94,1153.2199999999998,278.95,3889.2900000000004,326.1,148.64999999999998,349.86,807.9000000000001,607.2,314.0,3914.38,1367.8599999999997,2679.47,428.04999999999995,70.95000000000002,740.5699999999999,298.98,83.5,733.27,77.8,407.75000000000006,915.6799999999998,207.6,493.40000000000003,1942.39,1457.8700000000001,247.84000000000003,1920.67,508.3399999999999,119.54,1502.53,3021.6,1080.42,129.19,1244.36,893.4300000000001,124.37000000000002,294.2699999999999,749.8699999999995,559.95,3504.940000000001,323.75,5051.810000000001,9886.88,580.02,286.70000000000005,664.1499999999999,882.0999999999999,90.6,67.19999999999999,608.6000000000001,129.0,269.07000000000005,2450.4900000000002,476.52,2552.24,208.6,477.35,1540.4699999999991,161.6,3080.92,367.3499999999999,140.88,216.95,7369.909999999999,2512.6200000000003,326.65,810.7800000000001,110.51,182.45,1006.4300000000001,542.3800000000001,2175.19,312.11999999999995,304.90000000000003,122.45,219.72,5205.500000000001,2125.45,1468.3599999999997,176.36,104.0,164.7,502.59999999999997,7184.259999999999,294.45,308.1,342.6,2917.2800000000007,174.55,2487.109999999999,2107.52,431.18,1056.98,426.21999999999997,98.72000000000001,613.2,136.5,1211.59,750.41,1397.0900000000001,839.0999999999999,54.0,2788.9199999999996,249.60000000000002,1712.51,600.5000000000001,326.84999999999997,96.14999999999998,1293.52,914.23,10304.15,126.7,189.79999999999998,418.15,1915.9999999999998,5031.42,3428.35,646.3,834.5,374.6,1675.4999999999995,1170.14,5190.48,279.19,300.59999999999997,969.3799999999998,132.70000000000002,758.6600000000001,2445.6000000000004,378.5900000000001,1395.94,931.57,2528.59,196.75,447.69,174.89999999999998,60.15,679.9,2022.33,502.78,3389.81,1103.5,413.59,30.0,188.39999999999998,2950.38,65.7,45.0,311.07,2846.91,1090.5499999999997,2428.71,196.20000000000005,438.35,1480.6599999999999,723.31,12892.380000000006,847.6199999999999,732.8500000000001,10475.56,9368.4,6038.489999999999,1345.1299999999999,2116.9900000000002,32.4,3841.730000000002,1023.9100000000001,335.00999999999993,909.8,641.85,569.55,505.15000000000003,603.9899999999999,3771.4299999999994,507.1299999999999,183.29999999999998,223.04999999999998,1403.57,5013.03,537.3000000000001,2086.9300000000003,7910.749999999999,649.9999999999999,2633.4500000000007,603.89,3275.4900000000002,201.9,704.51,717.1000000000001,115.4,394.15,3413.4300000000003,1660.1999999999998,750.85,616.91,815.01,160.35000000000002,1045.5,2314.87,555.7099999999999,379.85,15485.210000000001,197.86000000000004,331.54999999999995,93.6,567.85,93.6,64.14999999999999,816.76,274.20000000000005,437.6599999999998,7178.509999999999,3528.61,23656.739999999994,3799.359999999999,203.7,2625.859999999999,18483.39,833.5,3811.9500000000003,3596.7899999999995,2129.67,1006.8399999999999,1253.2400000000002,448.48,1640.18,5573.549999999999,1069.6499999999999,990.55,472.03000000000014,811.8399999999999,295.9,3648.0800000000004,424.5,1401.9499999999998,1081.67,493.7199999999999,236.45,363.5,59.900000000000006,254.59999999999994,177.6,318.8,418.98,625.54,303.47999999999996,144.55,5885.52,231.2,455.65000000000003,361.04999999999995,375.75,162.99999999999997,85.92,558.2,375.7,126.03999999999999,981.8000000000001,727.5600000000001,56.72,807.1600000000001,1759.5,303.56,1216.2999999999997,339.65,839.8199999999998,221.0,3285.92,150.25,260.03000000000003,380.74999999999994,298.78,2128.19,134.1,545.3800000000001,3938.96,2519.1500000000005,2762.3399999999997,937.66,1157.71,286.28000000000003,137.29000000000002,570.59,804.1500000000001,100.8,298.34999999999997,1749.7,1005.6599999999999,17.7,1943.3099999999997,1106.3999999999996,449.2,1324.2699999999995,461.12,2364.1,1347.62,110.4,469.16999999999996,374.0,1042.4,711.3000000000002,754.8900000000001,499.20000000000005,298.0,1392.2399999999998,651.97,288.25,1024.3600000000001,1178.3400000000001,247.62,341.24,173.95000000000002,312.4,216.5,9857.159999999998,128.6,378.9,2696.37,1638.5300000000002,2804.5400000000004,1641.9,2131.4400000000005,280.2,2440.5499999999997,1283.7900000000002,116.30000000000001,13054.44,203.6,156.42999999999998,885.08,559.4900000000001,1694.1,97.44999999999999,304.08000000000004,37172.76,478.38,1438.12,990.85,987.14,45.92,8064.52,753.0300000000001,652.56,558.31,386.34999999999997,1266.55,1869.65,3522.6,1123.8,915.6700000000001,1201.2500000000002,246.15,3729.9799999999996,94.67000000000002,3314.9100000000003,226.31,1649.38,712.4800000000001,141.57999999999998,1350.4,101.15,317.55,7314.7599999999975,91.25,666.3000000000001,34.95,1045.08,318.78000000000003,260.19,97.5,770.0600000000001,527.9,300.6699999999999,6829.9,123.5,328.24,324.25,855.04,211.32,976.25,309.0,403.27000000000004,8274.730000000001,120.94999999999999,122.7,3516.07,485.45000000000005,70.05,205.35000000000002,15.0,1538.8,4165.7,3254.53,2907.05,556.01,204.0,5783.2199999999975,2133.28,545.78,224.4,207.60000000000002,1220.8,678.03,979.9800000000001,151.54999999999998,593.23,772.5999999999999,733.77,854.7,601.03,447.30000000000007,370.75000000000006,224.73999999999998,556.75,2869.6099999999997,1319.44,646.5999999999999,4795.94,203.00000000000003,954.1300000000001,173.29999999999998,183.4,223.80000000000004,208.05,286.5,776.8499999999999,183.12,350.95,87.52000000000002,2668.3399999999997,145.6,177.14999999999998,919.61,333.95,10441.96,220.10000000000002,17.4,21034.48,1550.5699999999997,259.71,365.08,48640.67000000002,8658.999999999998,186.89999999999998,439.75,6341.66,1821.12,32.4,5009.2,24985.28,59.85,5311.550000000001,217.54000000000002,1088.4,76.5,1123.96,214.1,643.54,1295.35,11442.890000000003,1724.2,409.02000000000004,610.1499999999999,1124.77,30.6,168.77999999999997,707.25,3261.5700000000006,1165.84,199.26999999999998,64.0,1006.5,77.3,90.0,1312.6399999999999,2169.91,3000.59,879.1899999999999,4320.780000000001,369.27,1720.8899999999999,199.56999999999996,110.94999999999999,592.6,121.85000000000001,712.8,2951.08,1369.46,1152.9700000000003,104.4,826.99,1425.6800000000003,953.4399999999999,933.9400000000002,91.8,71.45,824.9,476.48,372.9,477.09000000000003,850.2799999999997,637.6,58.699999999999996,418.20000000000005,192.8,2245.5400000000004,229.89,282.45,4988.710000000001,45.0,3877.3699999999994,936.5300000000001,71.4,1493.95,210.74999999999997,114.6,30.0,742.6200000000001,102.88,51.7,1476.3100000000004,2330.3,8202.34,731.25,553.47,26.1,849.1600000000001,4637.23,211.2,869.4000000000001,692.58,1068.6999999999998,195.5,448.97999999999996,15.0,786.0900000000001,636.9000000000001,62.4,1757.3499999999995,4046.3199999999993,65.2,238.2,160.95,2244.31,1067.31,172.20000000000002,903.0699999999998,615.37,536.9300000000001,180.07999999999998,570.55,208.0,459.66,118.09000000000005,410.09999999999997,1275.62,347.82,339.5,682.76,506.0,366.21,576.44,238.92,557.62,944.1,176.17000000000002,5775.87,1681.52,1620.36,4127.650000000001,2049.36,4122.88,590.0,117.43000000000002,209.3,86.94999999999999,590.93,258.4,341.72999999999996,126.05,631.8,1096.0800000000002,55.099999999999994,153.39999999999998,2078.46,341.46000000000004,473.7,714.24,111.2,66.4,1952.9899999999998,270.0,142.5,330.85,449.99,182.7,1402.42,15.0,1261.7900000000002,932.78,883.1500000000001,488.61999999999995,1162.3000000000002,546.4300000000001,5163.110000000001,2045.5600000000002,577.52,10261.8,1274.26,488.46,99.06000000000002,736.85,5329.360000000001,654.3,3039.67,1298.3999999999999,712.5,1049.17,312.77,2798.6899999999996,685.6800000000001,360.0999999999999,659.3000000000001,9378.24,714.5500000000001,284.85,2318.8,339.50000000000006,291.36,171.6,115.8,811.0200000000002,323.94,253.30000000000004,566.9300000000001,586.9,684.5200000000001,507.46000000000004,299.92,339.04,2499.960000000001,712.44,123.35999999999999,1906.9500000000003,502.6,140.3,710.3500000000004,244.32000000000002,2803.53,701.8900000000001,729.8,308.14,3091.1099999999997,189.39,3771.55,449.07,583.32,628.97,523.6800000000001,59.8,1734.18,245.70000000000002,1262.22,1433.4699999999998,374.00000000000006,468.95,75.0,242.53,516.59,23217.77,903.1,152.0,540.57,474.5,609.03,5188.75,95.4,138.85,1289.6499999999999,2430.6600000000017,1112.96,3040.54,362.22,161.97999999999996,519.5,487.53,1050.9400000000003,511.55999999999995,3431.37,176.19,3145.540000000001,197.07,246.12000000000006,959.56,3283.05,196.37999999999997,1393.2,2201.1300000000006,590.0,321.28000000000003,932.1400000000001,1558.6,7491.260000000001,74.48,660.0,141.3,557.56,187.0,887.0600000000001,4402.530000000001,165.0,2033.7700000000002,253.5,155.36999999999998,1081.1999999999998,1100.02,1251.0200000000002,247.04999999999998,1496.6600000000003,159.82999999999998,79.5,297.90000000000003,407.44,924.2800000000001,459.79999999999995,7611.93,124.67999999999999,836.3300000000002,1250.0,394.95,88.95,1729.39,591.29,307.25,702.9699999999999,1048.0900000000001,1154.32,180.1,116.75,230.95,2684.0999999999995,385.19999999999993,1956.8500000000001,100.52000000000002,664.3,1291.3799999999999,156.26000000000002,205.10000000000002,116.80000000000001,525.46,1322.9299999999998,1564.0499999999997,599.7400000000001,122.75,2699.3500000000004,856.75,125.8,3418.7800000000007,474.24,577.9,1787.72,297.79999999999995,307.90000000000003,181.40999999999994,226.29,4704.7,3020.44,1280.8500000000001,431.24,227.82,519.8399999999999,450.8899999999999,738.0,56.1,3465.250000000001,3437.7499999999995,420.02,497.3500000000001,167.75000000000006,45.709999999999994,1317.5500000000002,712.73,1009.1099999999999,214.37,691.78,171.39999999999995,295.2200000000001,196.12000000000003,1282.47,1293.5500000000002,254.2,630.45,5775.08,1235.7000000000003,426.24,47.2,448.60999999999996,76.80000000000001,712.4,1659.54,343.6,1159.8,936.99,203.39,1637.8999999999999,289.33000000000004,591.6699999999998,173.08,4000.6600000000008,92.85,512.85,374.80999999999995,83.5,126.48,593.2799999999997,975.5300000000001,899.54,1462.1399999999999,269.70000000000005,481.40999999999997,121.26,169.65,582.19,195.54999999999998,1266.5300000000002,2441.8,1455.91,3070.42,1663.7500000000002,1319.3700000000001,890.9900000000001,695.28,691.69,102.78,847.1399999999999,325.19,429.70000000000005,1921.4599999999998,252.1,1493.2,284.5,1579.62,79.19999999999999,974.9800000000002,1911.8100000000004,829.0,227.37,325.79999999999995,2498.2499999999995,1148.66,742.3,150.75,53.349999999999994,250.90999999999994,5545.77,172.95,272.94,60.84,393.31999999999994,371.76,2405.1299999999997,722.94,25.5,44.58,1177.1,21.0,731.0,141.04999999999998,1136.1200000000001,40348.53999999999,2244.51,83.8,299.1,1284.14,99.5,1805.82,662.46,283.99,610.7500000000001,197.04,5510.330000000001,136.8,179.46,78.0,867.4599999999998,63.0,865.0600000000001,99.15,825.08,602.3,450.50000000000006,1961.0100000000002,199.84999999999997,1689.9299999999996,860.9,287.7,833.72,611.24,499.26,231.54,2562.3999999999996,550.3800000000001,287.53000000000003,216.89999999999998,132.35,578.41,2734.99,774.5999999999999,869.7,45.0,79.6,895.57,1577.21,112.80000000000001,772.4000000000001,627.26,202.20000000000002,1662.6000000000001,4622.46,2747.23,619.81,235.58,944.37,237.6,1624.9599999999998,1169.8,15357.309999999994,2448.21,2262.6499999999996,983.7600000000001,288.0,14640.96,124.2,221.58999999999997,127.84000000000002,778.1,1514.91,99.6,239.73,125.00000000000001,1049.0,154.75,24282.789999999986,630.36,456.49999999999994,229.7,3728.8799999999997,250.26999999999995,2297.9199999999996,139.2,256.38,96.7,1421.4399999999998,125.55000000000001,807.35,519.75,378.99,918.48,1410.52,2763.38,341.04,273.29999999999995,682.25,348.71000000000004,450.8499999999999,811.86,1545.1,112.6,370.27000000000004,129.35,1120.8399999999995,52.2,382.90000000000003,618.47,219.87,608.1099999999999,2781.8000000000006,315.42,249.9,772.6,1167.3,1340.8399999999997,2323.3199999999997,1080.78,7837.000000000001,37.5,205.97,164.51,1085.6599999999999,1682.14,243.82000000000002,494.96,145.67,804.75,2972.99,2508.81,2459.57,5570.2,311.94,396.84999999999997,1360.65,122.7,87.0,1213.85,2681.19,15672.020000000002,757.09,2302.5600000000004,680.4999999999999,450.79999999999995,196.6,238.67000000000004,536.98,416.90000000000003,1722.81,273.04999999999995,713.8999999999999,451.91999999999996,2191.22,266.64,117.05,378.31999999999994,620.6899999999999,2192.7200000000003,210.72,1901.6800000000003,1569.75,574.8100000000001,213.59999999999997,1042.4399999999998,191.31,91.55,316.45000000000005,1419.2099999999998,578.89,149.9,205.65,407.57,763.75,284.53999999999996,940.0899999999998,307.4,608.79,891.6000000000001,243.4,115.05,29.8,315.92,660.8800000000001,4579.68,214.35000000000002,90.6,102.0,1660.0199999999998,608.8,564.3299999999999,2509.26,3309.4,385.76,270.5,827.64,404.66999999999996,206.1,143.87,452.00000000000006,45.0,8096.37,2166.56,129.29999999999998,234.7,346.90999999999997,1913.04,308.96000000000004,117.50999999999999,688.0100000000001,165.5,1194.3100000000002,2234.7,630.0100000000001,6275.070000000001,150.06,2998.9099999999994,791.4200000000001,235.89999999999998,560.02,59.8,3032.76,2099.1999999999994,1239.41,3199.94,15.0,1623.98,209.85000000000002,4202.92,1959.9999999999998,948.99,616.3499999999999,249.8,301.34000000000003,39.96,865.4999999999999,3450.49,1289.0099999999998,503.17999999999995,614.2,251.66000000000003,510.03,265.70000000000005,94.62,402.5,1788.3199999999997,14907.480000000001,2539.9600000000005,503.94000000000005,1139.92,512.98,145.95000000000002,1287.48,152.2,2873.93,73.95,533.9000000000001,1417.1999999999998,7.5,1213.09,271.67999999999995,4627.84,430.99999999999994,11201.050000000001,202.54999999999995,260.25,82.5,725.64,7220.98,5179.260000000001,122.4,4336.120000000001,8265.109999999999,706.6099999999999,152.55,218.11999999999995,225.45,1121.49,81.02,739.82,73.18,440.66999999999996,992.5099999999999,302.2,15.0,692.5799999999998,153.70000000000002,752.9700000000001,3254.1099999999997,117.85000000000002,46663.52,97.5,76.32,3603.5899999999997,328.3499999999999,47053.480000000054,116.65,2256.6,178.9,4717.94,1334.53,182.64999999999998,1056.4099999999996,1901.9900000000002,466.61,108.5,4888.300000000001,603.45,2322.9099999999994,1680.62,343.80000000000007,1140.4699999999998,90.0,2150.4100000000003,2339.11,670.7299999999999,515.25,446.70000000000005,1056.9,395.9399999999998,2364.43,418.70000000000005,3401.27,827.9999999999999,186.14,709.05,904.9300000000001,240.12999999999997,115.8,594.0,3626.8999999999987,483.40000000000003,157.2,320.32000000000005,521.54,266.05,1267.1399999999999,17.85,103900.67000000001,300.62,251.0,2866.489999999999,981.49,221.32999999999998,1423.9199999999998,1555.57,91.80000000000001,123.44000000000001,290.3299999999999,401.40000000000003,105.35000000000001,2830.8399999999997,455.70000000000005,495.03000000000003,1132.96,649.6299999999997,4229.719999999999,452.89000000000004,197.65,1715.2,3335.2,2615.7,737.59,9774.539999999999,767.1999999999999,172.32,579.05,175.2,608.0600000000001,128.51000000000002,403.5,236.60000000000002,117.53999999999999,1526.0500000000002,1609.51,1720.02,527.6,615.8799999999999,1439.84,1612.28,1694.1399999999999,88.3,56.7,597.48,2612.64,400.92999999999995,817.41,945.8899999999999,1933.45,2744.9399999999996,1527.28,750.9100000000001,1374.4799999999998,1386.06,449.9700000000001,2297.3199999999997,384.3,150.8,117.35,2002.3300000000004,726.4799999999999,174.10000000000002,194.64999999999998,2150.84,1363.6300000000003,1333.9,93.32000000000001,282.3,1683.67,2660.46,872.56,2862.41,6783.599999999999,89.1,1122.0899999999997,2318.5299999999997,333.97,371.78,1392.1000000000004,435.65,71.7,239.57999999999998,367.3,878.82,3448.1900000000014,129.0,2654.7999999999997,530.3,1853.1100000000001,3218.01,123.35,426.59999999999997,838.9599999999999,1971.7799999999997,3090.7900000000004,2996.17,804.8999999999999,166.2,1123.37,29632.019999999997,3316.46,33.0,554.9399999999999,383.45000000000005,1587.9599999999996,1923.6999999999998,2289.7,1951.97,235.17000000000002,1303.8700000000001,70.19999999999999,2105.63,465.62,342.78,727.46,519.0200000000001,149.85000000000002,240.85000000000002,4221.3,422.1,778.89,415.2,1841.75,349.84999999999997,974.03,524.8,299.56,124.5,1759.5300000000002,621.94,581.0000000000001,87.30000000000001,626.9000000000001,382.45000000000005,101.69,157.35000000000002,51.0,888.16,86.69999999999999,79.13999999999999,153.8,656.8299999999999,164.38,856.38,1828.0099999999998,140.34999999999997,3211.4,7705.86,155.0,100.5,66.35,181.05999999999997,581.65,180.16,158.32,303.67,1064.8899999999999,144.75,132.20000000000002,1361.3299999999997,2628.2000000000003,660.0,3676.9399999999996,67.94999999999999,2974.4999999999995,430.84000000000003,2101.3999999999996,549.02,2262.96,1305.3500000000001,1232.1699999999998,87.65,1699.6099999999997,2423.0299999999997,1513.4699999999998,895.6500000000002,1062.9999999999998,432.5799999999999,93.55,328.9,5016.43,422.46000000000004,1393.44,941.88,254.48,629.4499999999999,3112.7599999999998,81.6,322.08,3776.81,317.74000000000007,1108.4299999999998,470.35999999999996,1337.49,1372.7999999999997,47.9,32.4,95.4,2525.4,1775.3600000000001,1571.0899999999997,1475.1399999999999,1200.54,693.3900000000001,953.05,60.85000000000001,661.4100000000001,405.08,581.8600000000001,200.15000000000003,96.8,2151.7200000000003,108.6,1645.5200000000002,69.6,1705.2799999999997,1671.92,351.12,526.03,1882.8,527.8199999999999,324.9,1516.1800000000003,224.14000000000001,540.9399999999999,648.59,155.89999999999998,607.6,288.35,279.04999999999995,411.39000000000004,871.69,126.59999999999998,273.16,160.05,1013.47,900.58,318.40000000000003,305.65000000000003,1911.9500000000003,129.6,103.0,528.61,422.45,1721.7100000000003,616.3100000000002,356.85,241.12999999999997,1945.0799999999997,2863.7599999999993,503.5200000000001,4693.589999999999,1737.7700000000004,1149.8700000000001,225.95000000000005,1135.0900000000001,255.01999999999998,183.1,752.24,1791.14,300.25,128.24,33.0,811.3799999999999,74.35000000000001,1587.88,2611.1800000000003,7622.379999999998,300.89,522.96,2495.3500000000004,775.1400000000001,1103.66,3801.730000000001,2284.9399999999996,160.75,355.56000000000006,304.55,437.5199999999999,913.4899999999998,777.2399999999999,103.25,3419.120000000001,1526.3900000000003,2064.66,3101.0,163.2,229.77999999999997,671.48,158.64999999999998,130.17000000000002,691.5699999999999,1899.28,257.39,691.14,1752.83,713.28,4601.23,2489.15,716.0,1494.96,218.99,75.51,2436.2899999999995,1488.7400000000002,35.4,792.1699999999998,77.65,73.39999999999999,85.05,629.87,1003.28,133.74,15.0,1196.58,39.75,957.6599999999999,403.63,470.4700000000001,313.95000000000005,1413.7800000000002,757.0899999999999,171.49999999999991,338.3500000000001,165.6,9374.28,11367.140000000001,1588.15,396.0,512.64,374.28000000000003,295.65,1488.0600000000002,218.79999999999998,732.3699999999999,184.15,845.0300000000001,2314.9100000000003,477.98,865.8099999999997,911.3,82.24,272.9,572.6500000000001,413.48,2712.51,1924.3700000000001,72.3,96.11999999999999,431.04999999999995,797.64,432.9,226915.78999999995,233.32000000000002,635.0699999999999,587.3299999999999,68.42000000000002,1692.52,1548.1599999999999,247.34000000000003,712.5299999999999,198.51,2045.29,249.60999999999999,96.9,594.2,526.87,1525.3999999999999,118.6,6698.47,986.01,260.12999999999994,627.94,1646.7600000000002,497.68000000000006,2017.48,20193.969999999998,498.95,934.7900000000002,378.17999999999995,4198.41,79.25000000000001,306.38000000000005,2018.45,531.4499999999999,148.0,1336.23,33.6,1055.08,85.53,2101.36,2305.3199999999997,2892.71,271.29,1160.54,915.9300000000001,4097.0,511.7800000000001,2578.8700000000003,814.35,2160.62,77.85000000000001,692.8799999999999,157.38,1313.38,627.9300000000001,153.95,808.03,396.38,268.58,256.44999999999993,1582.8799999999999,185.64999999999998,2363.11,8558.230000000001,5531.089999999999,1139.55,1172.75,2946.04,1198.99,1041.48,1050.83,830.5999999999999,310.5,982.1,337.8,484.6500000000001,509.23,4394.219999999999,616.5600000000001,396.00000000000006,1407.3200000000002,1440.7599999999998,79.0,225.89999999999998,206.5,175.8,215.51999999999998,2011.03,192.6,8166.7699999999995,657.1600000000001,128.85999999999999,549.1800000000001,1158.6599999999999,695.0,362.45,302.90000000000003,200.1,142.04000000000002,565.5,138.0,435.2,4.25,220.79000000000002,1116.6900000000003,131.45000000000002,6203.6399999999985,112.2,81.05,3217.2999999999997,64.3,769.6000000000001,264.77,554.65,23.95,1938.55,1767.8999999999999,131.5,432.9000000000001,271.84999999999997,705.2,589.4,198.57,450.54999999999995,290.65,846.35,1979.53,1193.4399999999998,516.46,126.38000000000001,1626.5400000000002,102.45000000000002,1239.14,62.85,2516.6600000000003,2644.5500000000006,1946.8100000000002,235.5,6102.7,229.6,395.73,1955.4399999999998,475.8,2113.0099999999998,516.45,1211.14,1144.9999999999998,1158.9600000000003,96.11999999999999,74.25,620.7599999999999,266.76000000000005,13282.330000000002,577.38,2826.27,530.46,317.05,498.4100000000001,509.47999999999996,1247.2399999999998,1221.6,629.87,164.20000000000002,589.6999999999999,498.85,569.0,364.80000000000007,716.0,352.2,77.1,95.7,447.30000000000007,867.72,549.3499999999998,10216.980000000001,378.41999999999996,1290.06,881.02,1311.99,247.98000000000002,2350.46,383.48,371.55,3017.66,257.4,367.97,108306.00999999995,351.84999999999997,642.75,261.52,977.7,1250.1499999999999,851.3700000000001,1052.79,628.0799999999998,301.3,200.48,2031.4599999999996,786.16,313.5300000000001,1527.1,1520.1599999999999,6513.49,1374.08,5070.33,100.9,248.82,792.45,321.88,193.64999999999998,7137.030000000001,205.35000000000002,304.5299999999999,55.650000000000006,471.48,604.3199999999999,95.89999999999999,5982.709999999998,126.7,910.89,174.91,427.17999999999984,119.31,343.79999999999995,98.96999999999998,1558.1,893.5099999999998,103.99000000000002,1234.29,105.97999999999998,132.2,750.4900000000001,1656.8299999999995,88.2,180.88,192.62000000000006,163.2,259.98,107.44999999999999,112.1,334.1,400.72,1247.54,1086.75,4204.63,376.97999999999996,156.91,1146.0199999999995,227.58,305.2999999999999,237.38,122.01,111.28000000000002,388.41999999999996,201.69,1610.63,736.34,5569.5,1449.84,329.62000000000006,380.75,986.85,535.35,372.48,462.15999999999997,3780.7,2173.16,3659.1,177.06000000000003,349.3799999999999,485.1600000000001,15986.769999999999,146.78999999999994,135.93,537.0,6535.82,699.3,4516.76,309.29999999999995,333.05,119.47,1376.0199999999998,1012.8899999999999,114.60000000000001,446.74,242.25999999999996,1386.8999999999999,1820.63,1177.52,195.39000000000001,47583.29999999998,668.9000000000001,370.8,2767.6899999999996,867.07,1482.8000000000002,458.18999999999994,647.46,106.2,947.8700000000001,997.51,696.0699999999999,658.19,760.9499999999998,8034.0,721.85,220.24,62.699999999999996,193.65999999999997,1013.1400000000001,1805.9300000000003,320.59999999999997,373.21,438.0100000000001,3838.2000000000003,1033.3999999999999,184.7,200.64000000000001,39916.5,159.62,876.0,166.0,589.9200000000001,791.9499999999998,2020.79,1020.5000000000001,159.35,894.2500000000001,411.95,725.8,1429.8799999999999,2725.3199999999997,1592.4400000000003,271.65,1165.63,914.14,200.65,209.95000000000002,402.44,1327.1999999999998,1873.0899999999992,64.64999999999999,10191.44,386.60999999999996,897.72,3022.3199999999997,249.05,675.3299999999999,543.52,978.35,127.35,1074.28,98.70000000000002,1809.0100000000002,399.29999999999995,235.75000000000003,5879.920000000002,921.69,707.2399999999999,509.50000000000006,245.85,503.09999999999997,4144.249999999999,4016.6100000000006,179.57999999999998,252.4,798.89,935.45,367.44,14638.25,126.0,248.45,795.29,440.9999999999999,148.8,99.6,1102.0,1014.4300000000002,93.99999999999999,96.9,12.5,1545.51,77.3,562.4,516.3,282.75,328.65,4230.42,15037.27,497.1,485.4,5427.12,3861.0,565.13,179.12,909.0,704.5999999999999,1174.9,225.5,504.34999999999997,420.30000000000007,825.8199999999999,246.21999999999997,773.81,101.8,230.85,1231.89,717.9399999999999,96.6,3475.08,242.0,1305.3,403.25,513.0,718.95,267.78,327.2,147.45,1012.76,2739.0099999999993,247.80000000000004,177.39999999999998,131.6,1754.6800000000003,252.65,1095.2400000000002,906.27,594.27,1495.6000000000001,1221.72,196.07999999999998,424.16999999999996,2022.5600000000002,432.55,229.2,5725.5,9499.39,470.36,520.0799999999999,203.72,746.69,91.65,273.05,598.2,1521.3899999999999,165.7,151.05,58.35,252.17999999999998,1442.7599999999998,119.30000000000001,1717.3600000000001,408.8,1173.99,2092.6299999999997,605.4999999999999,567.4300000000001,475.7200000000001,117.48999999999997,221.4,124.54999999999998,35.05,1915.5200000000002,174.15,245.4,2201.82,631.68,6649.6,4307.92,164.8,2925.2200000000003,571.62,3819.42,2903.81,439.44,3958.3499999999995,497.8199999999999,694.4,924.23,131.9,268.65000000000003,46766.72000000002,557.5500000000001,188.65,235.5,165.0,77.4,126.2,156.04000000000008,2572.630000000001,533.0799999999999,61.57000000000001,156.34,188.05,913.8199999999999,324.0,1439.06,1018.36,235.76,165.98000000000002,441.86,1841.52,323.05,358.7,547.02,375.84000000000003,207.35,201.59999999999997,145.2,342.5999999999999,115.64999999999999,1764.36,696.9,140.2,2225.71,5902.750000000001,417.85,348.72,289.7,810.59,2126.6600000000003,380.75,1509.3500000000001,446.94000000000005,1409.76,1061.0,2355.16,76.2,1059.2800000000002,2960.44,1363.9399999999998,282.29999999999995,4784.71,453.35,240.37999999999997,230.7,99.83999999999999,500.0,1055.8000000000002,67.26,1783.4799999999998,107.44999999999999,267.9,94.0,1164.4899999999996,640.0900000000001,547.3000000000001,346.20000000000005,323.15999999999997,419.14,857.31,236.40000000000003,3228.3199999999997,1176.33,152.04999999999998,694.48,352.56000000000006,3313.0999999999995,417.6000000000001,32.7,751.0000000000001,87.5,7.5,135.89999999999998,1175.6599999999999,1176.9399999999998,40.2,175.39000000000004,171.19,338.29999999999995,865.6999999999999,137.66000000000003,956.4100000000001,173.05000000000007,141.35000000000002,344.2,2883.71,1123.0599999999995,93.1,134.57,460.64,683.8,278.64000000000004,440.87999999999994,1132.2,171.35000000000002,213.2,199.21999999999994,69.6,170.0,234.60000000000002,109.1,979.3800000000001,7324.770000000001,227.12,463.74,454.22999999999996,469.78999999999996,345.68999999999994,292.48999999999995,1771.2,343.35,1312.04,844.0000000000002,8305.56,132.01,2691.82,1959.0999999999997,91.32,1041.92,2581.7999999999997,568.48,1789.8999999999996,887.5599999999997,1047.3999999999999,10951.869999999999,892.77,4925.38,102.30000000000001,41.2,2558.0600000000004,746.3000000000002,440.59,849.1700000000001,250.0,782.4899999999999,65.7,13570.060000000001,3862.62,61.650000000000006,189.69,1564.7999999999997,280.62,2294.13,145.15,85.03,440.0,753.8199999999998,141.8,2124.88,140.67999999999998,2695.6,1160.0,1642.7599999999993,1363.3599999999997,735.31,338.54999999999995,96.97000000000001,413.02000000000004,142.5,37.26,93.04999999999998,1837.1300000000003,240.05,3269.57,1578.82,484.31999999999994,381.75999999999993,73.5,283.80000000000007,196.8,3361.3000000000006,198.95000000000002,352.18,773.95,134.55,769.1600000000001,156.66000000000003,174.49,606.4000000000001,753.8300000000002,3609.9200000000005,616.61,2238.85,412.3999999999999,603.0199999999999,800.52,221.45,92.0,314.99000000000007,581.1700000000002,520.15,479.51000000000005,355.2,832.32,417.63,282.88,189.60000000000002,1435.23,1249.59,268.53000000000003,167.86,400.14,5087.38,1023.3499999999999,168.51,1082.25,2745.2300000000005,57.0,846.4599999999998,258.40000000000003,70.86,1532.2900000000002,156.9,8026.369999999999,680.03,336.4,1289.2599999999998,919.23,3321.4199999999996,249.05000000000004,473.84999999999997,1258.5,394.88,2182.16,869.45,2834.52,233.35,527.36,194.89999999999998,307.3,10358.810000000001,1314.1599999999999,571.0,669.6799999999998,547.89,296.6,554.1999999999999,816.0,551.9200000000001,256.2,17.4,656.13,497.7699999999999,686.5199999999999,30.0,1024.1000000000001,226.35,1310.3,290.0,112.19999999999999,376.4699999999999,1624.54,254.52000000000004,76.32,636.78,122.65,2257.5299999999997,2538.7000000000003,1647.8499999999997,187.85,2635.629999999999,583.0700000000002,218.1,316.19999999999993,1041.8,1231.5200000000002,142.75,2603.73,241.5,61.8,136.8,149.22,5852.56,360.6600000000001,2470.34,255.35,599.0799999999998,1242.2100000000003,211.5,1828.93,143.10000000000002,1005.8599999999999,798.24,2828.61,74.46,946.4600000000002,237.84,247.16,695.73,68.1,3930.22,530.1299999999998,428.53999999999974,1417.56,178.4,218.25,331.61000000000007,4198.35,85.0,887.1,139.7,162.3,1150.09,1048.66,1955.62,184.88,110.48000000000002,752.33,971.5099999999999,130.13,875.9200000000003,149.31000000000003,28935.8,1772.2699999999998,1948.7099999999996,428.57000000000005,1953.6399999999999,441.03,592.54,188.24999999999997,248.0,516.3299999999999,867.4699999999998,2798.84,269.40000000000003,529.45,34571.100000000006,564.0,203.0,77.0,197.22,722.1500000000001,389.78,308.04999999999995,2524.7400000000002,187.62,1471.69,3894.2199999999993,814.6099999999999,99.69999999999999,187.47,1362.17,720.81,375.0500000000001,2451.17,1947.6000000000001,571.2,597.2699999999999,883.2100000000002,364.82,3300.63,4306.779999999999,579.4,784.5,3070.9900000000002,449.97,1068.72,1808.2100000000003,901.54,1217.75,1635.01,1453.8,1463.25,167.39999999999998,528.5500000000001,811.7,379.90000000000003,1253.99,1540.79,221.87999999999997,427.8,380.91,723.51,1889.2300000000002,813.8699999999999,137.37,378.2199999999999,23214.900000000005,946.4100000000001,226.39999999999998,907.5,93.44999999999999,42.18,3430.2499999999995,281.19,139.74999999999997,152.04999999999998,64.08999999999999,980.08,544.73,11646.03,96.6,945.52,834.33,1994.1299999999999,601.05,67.67,1936.3199999999997,799.6700000000001,180.64,2776.03,81.25,242.0,305.4,3423.1999999999994,346.88000000000005,252.87999999999982,386.8999999999999,315.96,327.25,349.34999999999997,90.7,159.54000000000002,311.71,162.35000000000005,218.05,12.51,59.309999999999995,1114.97,20.0,299.5100000000001,250.63,3724.2000000000003,133.44,1469.45,777.6399999999999,186.9,872.51,176.87,980.45,102.69999999999999,310.15000000000003,398.82000000000005,115.69,282.40999999999997,369.5,68.15,186.75000000000006,393.93000000000006,1357.18,777.3599999999999,77.8,145.35,376.92,2361.8500000000004,35.8,307.20000000000005,325.09999999999997,167.4,1208.4,838.54,280.0,1449.0900000000004,649.56,659.5500000000001,768.02,3832.9799999999996,382.77,98.7,420.68,608.27,321.82000000000005,655.9,102.3,3162.8,307.82,2882.4700000000003,306.92999999999995,344.66999999999996,737.1099999999999,764.0599999999997,2062.14,3134.88,1093.42,2192.0699999999997,756.6200000000001,75.36,931.62,136.44000000000003,583.63,41.989999999999995,2089.4099999999994,419.41999999999996,897.9100000000002,2331.7999999999997,12393.7,2439.1299999999997,488.30999999999995,80.76,1106.5800000000002,288.0,955.01,282.46,3169.74,1273.4099999999999,26945.180000000008,610.54,344.3,1334.8999999999996,184.38,380.31000000000006,2970.23,746.53,510.59999999999997,626.92,108.15,351.5799999999999,119.39999999999999,340.91999999999996,60641.48999999999,198.25,279.70000000000005,7976.829999999999,328.0,541.8400000000001,512.8,256.48,1144.2599999999998,2739.8,1042.9099999999999,513.95,1074.5,251.4,730.7499999999998,74.6,289.93,1053.8699999999997,672.7499999999999,546.5299999999999,2117.32,1289.5,902.4599999999998,237.19999999999996,255.43999999999997,1262.09,705.34,264.7,562.6,122.4,1925.6499999999999,79.2,1118.54,150.06,2105.6899999999996,1042.94,296.35,788.7700000000001,842.25,274.65999999999997,640.86,896.07,241.30000000000004,185.04999999999998,1959.96,589.1,1096.22,1434.48,1230.8000000000002,274.65999999999997,274.56,80.1,2737.9599999999996,682.0199999999999,324.0,1164.9499999999998,10.0,74.75,135.75,1343.6399999999996,515.3000000000001,192.48000000000002,403.08,998.2800000000001,702.9599999999998,292.5,246.7,249.00000000000003,223.95000000000002,5742.25,523.04,1743.1799999999998,2948.06,12310.1,524.73,480.95,520.6399999999999,533.8299999999999,377.66,554.64,360.49999999999994,2126.6400000000003,175.2,2717.5499999999997,600.93,291.5,76.32,161.0,1725.49,1829.04,1693.4799999999998,2858.7599999999998,559.25,274.20000000000005,740.8000000000001,4855.1900000000005,37.4,823.9,738.8800000000001,3317.5199999999995,1527.17,1392.0,73.19999999999999,846.5100000000001,1285.3400000000001,1009.55,787.25,331.95,197.89999999999998,201.43000000000004,8917.720000000001,256.2,5382.45,338.71000000000004,1081.9899999999998,482.2099999999999,2999.9799999999996,4389.54,749.08,215.48,149.43999999999997,4115.9,275.09,375.88,915.06,1513.4500000000003,326.35,582.7,293.66999999999996,645.56,474.81000000000006,372.0799999999999,558.86,1989.44,19900.559999999998,527.0999999999999,677.14,159.0,968.4300000000001,242.34999999999997,795.5500000000001,304.25,2633.1600000000003,650.9200000000001,794.0100000000003,865.1700000000001,986.97,241.20000000000002,199.5,983.0899999999999,319.07,726.8200000000002,526.48,774.3000000000001,401.84,383.40000000000003,3398.8599999999997,2017.6599999999999,3189.34,379.28999999999996,1040.0999999999997,1039.91,72.20000000000002,142.98000000000002,1519.2500000000002,319.5,2633.26,2077.58,449.54999999999995,21.95,4317.29,936.7000000000002,657.2700000000001,4382.8099999999995,770.41,367.22,953.4400000000002,912.3000000000002,344.1500000000001,269.29999999999995,452.6299999999999,810.5999999999999,553.0999999999999,1048.77,1252.06,70.5,1104.7600000000002,729.4399999999998,19.8,257.9200000000001,2044.07,989.65,227.1,598.2,170.10000000000002,4807.129999999999,306.1,517.35,413.15000000000003,516.62,237.07,226.37000000000003,2380.27,1081.0900000000001,273.75,404.40000000000003,840.1,355.95,255.32000000000002,207.5,288.37000000000006,594.24,2693.6799999999994,2538.3500000000004,238.50999999999996,1193.17,22851.120000000003,120.25,199.2,109.95,404.12,1406.15,140.45,335.79999999999995,101.1,486.79,777.3,1254.16,53.08,967.8500000000001,133.5,433.12,6462.590000000002,377.2199999999999,210.11999999999998,638.9599999999999,1729.04,1550.0400000000002,2658.5499999999993,802.14,672.7499999999999,99.4,654.75,1449.27,228.89999999999995,633.6099999999999,389.00999999999993,1295.76,1068.44,335.6599999999999,427.31999999999994,789.2599999999996,275.35,1869.94,1332.8,419.63000000000005,498.0,361.83,181.33999999999997,79.36,1304.43,143.62,2877.67,373.49999999999994,824.99,1452.4,353.62,277.69,2580.79,282.5999999999999,147.60000000000002,369.9500000000001,74.2,87.14999999999999,1982.8400000000001,1262.6999999999998,180.38000000000005,114.24,190.70000000000002,126.25,159.8,759.05,614.8499999999999,909.5699999999999,17686.319999999996,315.64,102.96000000000001,214.2,1503.94,240.21999999999997,4.95,275.35,448.38,107.58,166.92999999999998,1405.89,377.95,3147.45,371.0,476.26,452.65999999999997,192.89000000000001,168472.5,139.75000000000003,134.53999999999996,663.2900000000001,207.12,234.75,1709.1,1362.7,143.86,1833.5,472.25000000000006,140.02,136.0,1145.72,1021.56,1250.21,74.9,540.51,574.48,137.54999999999998,241.25,1584.1799999999998,386.7,2045.25,249.8,287.63,690.05,77.7,373.49999999999994,276.43,262.7,602.58,914.4100000000001,532.5100000000001,545.22,1317.9799999999998,2735.1699999999996,92.49,355.25,370.74,1224.35,309.74999999999994,658.0799999999999,90.30000000000001,363.69999999999993,248.1,802.8100000000001,627.9399999999999,1403.9700000000003,86.1,122.85000000000001,351.20000000000005,204.48000000000002,867.6399999999999,8024.099999999999,9625.51,175.16,104.30000000000001,174.45000000000002,424.3499999999999,1062.01,6374.4,864.7599999999998,503.93000000000006,476.14999999999986,1170.05,31.42,339.3,591.95,3417.359999999999,1862.1900000000003,390.23,308.39,4014.2400000000002,721.9300000000002,255.64999999999998,2601.8199999999997,263.25,6678.34,681.41,460.65999999999997,864.9799999999999,155.85,453.08,378.25,92.7,3224.6200000000003,964.02,854.74,568.93,239.4,55.2,292.62,233.45,801.0799999999999,463.95,214.95,280.84000000000003,210.1,3068.2599999999993,232.15,171.64,235.49999999999994,216.85,30.2,135.15,367.52,174.00000000000003,445.26000000000005,391.75,2504.25,4672.63,15.0,124.45,996.7,505.9499999999999,410.79,390.40000000000003,2503.4699999999993,194.52999999999997,131.7,751.3199999999999,111.75,641.96,228.14,3468.7200000000003,275.20000000000005,1865.4900000000002,275.54999999999995,2661.22,191.9,880.41,1127.33,1102.6499999999999,130.42000000000002,506.16999999999996,381.34000000000003,521.8599999999999,139.5,205.80000000000004,376.70000000000005,5969.369999999999,936.3,505.75,3118.8199999999997,1772.6,540.26,116.1,658.9300000000001,135.4,18.75,476.2499999999999,135.6,1073.9,3204.9000000000005,1159.35,8053.339999999999,267.3,1374.51,2490.45,117.0,183.70000000000002,1431.4,664.3199999999999,49685.23999999999,180.36,2209.74,985.74,252.2,215.5,1126.0,414.7,657.9,97.05,1998.0,3781.05,3259.5000000000005,11623.689999999999,395.12,597.83,2896.1300000000006,1912.3,956.59,3275.7799999999993,5574.95,967.8399999999996,901.2,3080.479999999999,477.75,1267.85,58.8,228.17000000000002,3174.21,446.40999999999997,636.1500000000001,1109.25,198.22,815.4599999999998,5562.160000000002,338.58,534.99,559.09,1491.5900000000004,417.6,271.6,1753.24,963.1800000000001,4229.5,5167.879999999999,672.8000000000001,1062.3,511.62,1586.8999999999999,184.7,174.89999999999998,1484.0,1055.4099999999999,211.62,83.55,306.06,648.71,225.0,1312.83,477.05,2344.2100000000005,34.0,1084.4,4328.52,453.29,350.89,550.06,1588.9099999999996,64.59,462.99999999999994,1623.76,308.8000000000001,183.95999999999998,180.32,9050.9,346.22,283.35,1984.6400000000003,77.6,397.74,80.8,1287.28,1482.9399999999996,87.55,193.20000000000002,1011.53,326.3499999999999,259.68,1014.2000000000006,1283.2299999999998,257.4,407.63,248.35000000000002,722.22,887.53,208.82,699.83,290.84000000000003,453.85,439.1500000000001,1124.02,6190.830000000001,362.70000000000005,1311.03,2717.4300000000003,455.24999999999994,332.05000000000007,390.6,546.7,282.50000000000006,113.5,168.72,202.12999999999997,175.0,1001.05,319.98,139.25,238.58999999999997,2723.9500000000007,510.49,13940.670000000002,994.2399999999999,1073.9099999999999,7608.96,203.82000000000002,183.24,247.81999999999996,94.12,248.52999999999997,301.40999999999997,77.2,270.5,35.4,375.69,316.67,70.8,366.96,189.5,656.3600000000001,2264.61,620.26,6058.160000000001,1620.8100000000002,743.77,3.8,1307.77,555.02,221.63,331.11,317.1,84.68,1289.6999999999998,724.02,418.27000000000004,97.53000000000002,201.01,250.8,394.96000000000015,1042.38,590.49,1646.7,267.79999999999995,3022.86,2788.4599999999996,458.6,933.42,228.35999999999999,1226.86,2368.94,52.6,199.92999999999998,451.94,452.56,329.12,671.4700000000001,2184.7799999999997,111.16,6546.0,642.6600000000001,230.25000000000003,139.85,2751.63,908.75,231.37,3633.4999999999995,106.77000000000004,459.59000000000003,785.4599999999998,175.27000000000007,1387.1399999999999,2206.08,1768.89,816.73,3358.4,272.08,1025.19,816.61,751.4499999999999,143.67,1748.5999999999997,412.47,293.5,375.59999999999997,70.35,448.1499999999999,223.97,110.55,73.85000000000001,1669.0900000000001,222.6,349.11,383.15,308.12999999999994,251.51999999999998,252.79000000000002,1564.0700000000002,895.49,377.41999999999996,1426.75,3675.810000000001,3976.7599999999993,62.4,1508.34,115.92,503.25,1286.75,1333.0600000000002,565.5,295.0,436.48,3115.05,1347.77,1323.73,730.28,630.6899999999999,151.68,227.1,564.9999999999999,1063.73,7088.119999999999,889.5,962.01,12.48,95.85,335.97,134.43,753.7499999999999,89.55,317.05,872.1,689.66,310.98,1146.36,112.39999999999999,405.56999999999994,633.8199999999999,710.21,1319.8899999999999,768.48,329.48999999999995,557.0999999999999,921.52,790.69,4687.53,2612.3,172.20000000000005,317.47999999999996,463.08,965.1000000000001,1076.27,2218.18,203.04,4685.8099999999995,438.4,1159.7,821.25,3937.380000000001,2130.2000000000003,297.41999999999985,2077.3500000000004,1235.48,656.6099999999999,820.98,183.60000000000002,118.8,246.82,267.81,1616.7499999999998,752.18,2514.07,1416.3,1325.9300000000003,1639.6399999999999,1702.78,3349.73,1577.8799999999999,244.2,1011.6,912.09,830.34,739.3999999999997,1394.55,25.5,386.5,9116.26,672.76,163.29999999999998,102.83,720.83,676.5,92.8,111.89999999999999,481.6499999999999,279.8,138.32000000000002,210.6,205.29,230.03000000000003,716.21,2045.81,3796.64,305.15000000000003,808.97,246.35000000000005,9367.15,417.37,579.0,854.45,638.6500000000001,1480.1800000000003,107.88000000000001,231.0,167.48,153.66000000000003,189.09999999999997,288.76,1169.77,1090.8899999999999,2522.25,1407.8,293.1,2147.6699999999996,148.6,199.54,566.26,148.15,129.0,3533.2000000000003,30.0,1150.49,193.75,407.08,624.9100000000001,160.72,2878.35,123.25000000000001,2087.57,311.52,368.26,1608.6,1290.66,1013.0100000000001,389.95000000000005,224.08,2961.67,1429.56,10.0,204.24,1825.7400000000002,177.3,2192.9600000000005,840.7,100.85000000000001,1726.1799999999998,97.46,2642.1000000000004,276.46,260.76000000000005,335.75,185.05000000000004,837.8,1180.4599999999998,234.31,3202.76,2130.64,401.36,130.12,130.9,499.46,793.29,302.94,2896.6499999999996,305.1000000000001,899.8999999999999,6497.060000000001,535.33,161.25,235.52999999999994,215.88000000000005,303.95000000000005,186.64999999999998,232.68999999999997,151.41000000000003,172.68,218.85000000000002,221.70000000000002,407.40999999999997,1171.76,52.39,398.60999999999996,278.48,259.25,487.15999999999997,1559.35,78.73000000000002,912.2299999999998,127.1,105.43,1234.1200000000001,1189.8,90.16000000000001,877.6600000000001,1078.6800000000003,766.29,404.28999999999996,550.8,1441.0,484.98,108.55000000000004,209.71,439.8,164.27999999999994,932.26,196.17999999999995,6485.2300000000005,71.25,1054.69,570.75,2056.9199999999996,1748.3900000000003,5079.219999999999,2600.34,963.1499999999999,572.5600000000001,548.62,625.1399999999999,96.8,316.25,363.9,175.2,423.69,190.19999999999996,1611.3599999999994,5063.769999999998,169.2,10607.319999999998,584.8700000000001,180.65,131.72,367.2699999999999,2094.98,228.96,714.3199999999999,52.300000000000004,1123.21,538.65,1740.0,1351.1699999999998,102.95,363.9599999999999,301.15000000000003,62.010000000000005,422.11,467.85999999999996,257.05,3541.2299999999996,3193.45,101.75,814.8700000000001,286.76000000000005,394.51,902.5800000000002,500.58,479.87,197.88,156.2,3255.7400000000002,249.94000000000008,12771.489999999998,65.4,138.53999999999996,87.08000000000001,198.84000000000003,2299.32,647.99,1259.56,29264.88,508.8,324.5,39.65,7312.799999999999,621.4300000000001,567.14,1771.5599999999997,2553.83,265.66,17493.820000000003,803.09,1825.5600000000002,32.65,754.0,1051.08,718.22,1150.8999999999999,501.19999999999993,5259.889999999999,316.48,3673.7900000000004,583.83,1166.2300000000002,531.49,628.4699999999999,4080.12,100.8,14693.089999999998,331.04,184.09999999999997,272.34999999999997,311.09000000000003,248.19999999999993,1637.1000000000001,216.29999999999998,388.45,1875.92,534.24,1596.4399999999996,15.3,404.97,1861.3799999999994,178532.82999999996,1447.54,472.50000000000006,436.19,131.7,161.81999999999996,1357.4399999999998,276.63000000000005,533.94,477.8299999999999,453.65000000000003,646.71,1383.1499999999999,144.45,508.63,120.0,1673.9700000000003,402.05,535.3100000000001,127.94999999999999,426.02,959.5,316.54,340.83,192.36,1937.3200000000002,3093.28,353.97,427.0,226.64999999999998,124.74,316.59999999999997,1138.0,237.0,583.26,448.1299999999999,2461.3900000000003,1069.52,270.7,516.55,245.25000000000003,5623.0599999999995,252.56,68523.23,1682.9099999999999,513.2,138.75000000000003,627.2799999999999,616.6899999999999,117.30000000000001,1137.65,419.2299999999999,607.89,711.54,489.53999999999996,145.0,400.20000000000005,1174.9,726.6300000000001,2963.3199999999997,1898.4,240.3,212.85999999999999,103.0,574.68,46.6,578.9000000000001,108.19999999999999,560.2399999999999,103.3,47.7,196.1,197.70000000000002,669.65,1487.6,1544.7699999999998,388.91999999999996,147.39999999999998,428.3,458.25,126.67000000000003,952.0799999999999,445.51000000000005,736.8199999999999,3941.3100000000004,317.0,1115.7499999999998,206.85000000000002,300.44,185.65,3017.4100000000003,96.3,367.78,160.27000000000004,8958.799999999997,156.78,1115.7,574.5600000000001,1025.7,2033.53,1315.2299999999998,1996.5,2514.2000000000003,832.58,324.39,1180.5499999999997,1705.1800000000003,118.84999999999998,100.94999999999999,3739.3799999999997,394.72,272.40999999999997,81.22,876.3799999999998,2907.7000000000003,1291.1500000000003,3615.1,295.39,309.7,765.11,169.02000000000007,34.0,1332.2,447.33,704.94,1369.23,19.8,1097.24,386.4,426.48,1194.6,2076.6999999999994,251.71999999999997,429.90999999999997,107.55000000000001,397.26,566.63,55.35,2398.32,965.19,133.06,1746.6200000000001,794.29,109.19999999999999,3162.8000000000006,3769.38,653.6,111.94999999999999,2313.41,1144.31,374.50000000000006,2626.1,148.98,1594.0100000000002,338.58000000000004,581.28,1761.5700000000002,327.85,2725.84,153.5,1475.57,2708.8700000000003,1063.48,316.44,18003.280000000002,1007.5999999999999,13065.040000000003,261.51,1901.7600000000002,145.3,2228.8199999999997,204.25000000000003,2004.4899999999998,4908.08,4391.659999999999,247.5,565.8000000000001,151.15,214.2,487.1,1653.5700000000002,338.95,154.95000000000002,1835.93,1352.41,600.34,691.4499999999998,1567.0000000000002,9188.34,50.400000000000006,257.6,137.45,333.98,362.3299999999999,78.0,4925.649999999999,118.95,4729.420000000001,1062.06,1786.7500000000002,3177.4,832.7,2630.78,902.9499999999997,2597.4100000000003,4038.5099999999998,1015.07,236.67000000000002,572.37,537.45,11038.91,248.45,127.44,1537.7499999999998,2791.35,284.31,836.44,110.25,71.4,563.04,139.58999999999997,584.22,4412.719999999999,2859.9300000000003,603.91,207.75,628.66,764.49,354.13,195.02,1960.19,3583.34,649.3000000000001,148.67000000000002,143.64000000000001,880.8500000000001,490.24000000000007,501.84000000000003,170.44,137.26,126.9,205.36,1537.4699999999996,1112.95,225.90000000000003,1619.39,106.1,238.08999999999995,242.75000000000006,684.1,590.23,2304.01,806.3,818.55,288.27,285.15,5178.330000000001,6074.8899999999985,588.03,1545.3600000000004,17.490000000000002,379.29,3666.4100000000003,175.0,1316.4900000000002,865.5899999999999,715.8399999999999,329.3,35.4,77.21000000000001,243.51,35.83,1389.7500000000002,2239.75,267.42999999999995,32945.81,123.50000000000003,25.0,771.7600000000001,595.8000000000001,3689.2499999999977,112.64000000000001,277.01,148.25,1307.6299999999999,23166.379999999997,3063.71,110.10000000000001,173.98,1414.2400000000002,150.89999999999998,2396.6,322.08000000000004,8881.17,311.95000000000005,565.35,363.25,1341.4,82.7,1509.93,545.13,200.05,215.79999999999998,177.36,395.08,84.55000000000001,537.2200000000001,436.18,164.48000000000002,821.84,95.45,421.11,143.75,403.78999999999996,10.5,229.38,50.510000000000005,863.5200000000001,53.25,152.64,509.63,90.92,95.51,60.0,109.04,392.28999999999996,52.75,126.65000000000002,264.14,233.15,299.94999999999993,280.62,1111.44,3495.25,750.9399999999999,207.5,2148.42,244.08,287.75,101.24000000000001,843.0,1177.56,345.71,1030.65,655.61,118.85000000000001,322.34999999999997,4174.98,95.81,139.2,75.6,109.64999999999999,127.96000000000001,358.56,48901.439999999995,353.17999999999995,910.74,1529.65,385.7,12.75,34.88,406.46000000000004,67.07999999999998,1021.7300000000001,42.74,346.73,2021.0,103.64,92.29999999999998,178.19999999999996,200.25,252.54999999999998,111.7,278.0,580.2599999999999,4234.54,169.44,153.79999999999998,136.05,632.5500000000001,650.85,115.9,20.8,68.25,153.83,433.79999999999995,93.35000000000001,515.63,1233.5000000000002,254.57999999999998,283.42999999999995,135.13,211.35000000000002,411.63,1931.8,183.25,167.69999999999996,50.400000000000006,90.65,150.52,61.00000000000002,1053.7,112.04,28.549999999999997,478.32000000000016,385.07000000000005,89.20000000000002,210.25,48.3,59.09999999999999,180.37,546.34,308.96,60.8,327.9,2477.5,165.05,482.1199999999999,1867.0600000000002,136.00000000000003,157.33999999999997,35.9,162.8,5642.669999999999,302.45,81.6,224.0,1854.2100000000003,604.0,814.0,1912.81,318.0,338.63,101.7,1594.8600000000001,430.5,90.0,3631.44,458.4,1925.47,2093.89,307.18,691.78,1231.5,308.05,504.39,562.9,71.1,123.69000000000001,6413.2,1845.9199999999998,1893.2199999999998,406.65,607.73,2162.36,129.97,139.95000000000002,251784.36000000002,591.08,74.68,341.45,209.79999999999998,6777.390000000001,176.55000000000004,303.28,76.32,203.15,846.62,136.33,4340.0,135.45000000000002,86.05,571.2600000000001,1269.7400000000002,330.96000000000004,759.8199999999999,151.79999999999998,202.64999999999998,106.25,743.75,681.91,739.33,145.15,7320.000000000002,600.48,875.5799999999999,2714.8500000000004,1992.65,58.8,60.0,500.22999999999996,505.49999999999994,478.3,276.78999999999996,290.5,637.7800000000001,255.80000000000004,530.1500000000002,527.0,1350.51,351.15,269.1,1314.06,978.16,200.45000000000002,797.97,1081.3400000000001,5741.880000000001,1728.12,370.45,1131.15,1259.6499999999999,1446.73,1131.1000000000001,314.98999999999995,430.75,241.24999999999997,1657.68,948.94,226.2,99.0,882.3699999999997,215.2,732.8,518.0500000000001,4810.24,131.18,1352.5099999999998,157.3,1727.9099999999999,477.17999999999995,86.55,2263.32,522.7900000000001,166.29999999999998,152.18,284.34,386.45,377.88,523.3000000000001,1849.4099999999999,305.28,750.89,5654.449999999999,119.35,4289.54,4318.840000000001,93.75,764.54,6699.699999999999,2064.04,1883.2600000000002,523.79,440.0,1198.86,772.1399999999999,896.98,1291.96,71.4,1636.2100000000003,2034.69,1903.44,596.1,622.5000000000002,57.480000000000004,285.55,1362.0,373.39999999999986,75.2,2111.7200000000003,2248.5999999999995,2118.1699999999996,303.84000000000003,84.9,659.08,703.95,148.2,233.5,2538.24,136.5,294.36,163.7,180.6,65.7,152.45000000000002,1620.52,896.86,510.0,48.8,134.79999999999998,134.39999999999998,88.35,94.89000000000001,212.94999999999996,400.25,156.06000000000003,180.92000000000004,175.25,336.21999999999997,77.07],\"type\":\"histogram2d\"}],                        {\"template\":{\"data\":{\"histogram2dcontour\":[{\"type\":\"histogram2dcontour\",\"colorbar\":{\"outlinewidth\":0,\"ticks\":\"\"},\"colorscale\":[[0.0,\"#0d0887\"],[0.1111111111111111,\"#46039f\"],[0.2222222222222222,\"#7201a8\"],[0.3333333333333333,\"#9c179e\"],[0.4444444444444444,\"#bd3786\"],[0.5555555555555556,\"#d8576b\"],[0.6666666666666666,\"#ed7953\"],[0.7777777777777778,\"#fb9f3a\"],[0.8888888888888888,\"#fdca26\"],[1.0,\"#f0f921\"]]}],\"choropleth\":[{\"type\":\"choropleth\",\"colorbar\":{\"outlinewidth\":0,\"ticks\":\"\"}}],\"histogram2d\":[{\"type\":\"histogram2d\",\"colorbar\":{\"outlinewidth\":0,\"ticks\":\"\"},\"colorscale\":[[0.0,\"#0d0887\"],[0.1111111111111111,\"#46039f\"],[0.2222222222222222,\"#7201a8\"],[0.3333333333333333,\"#9c179e\"],[0.4444444444444444,\"#bd3786\"],[0.5555555555555556,\"#d8576b\"],[0.6666666666666666,\"#ed7953\"],[0.7777777777777778,\"#fb9f3a\"],[0.8888888888888888,\"#fdca26\"],[1.0,\"#f0f921\"]]}],\"heatmap\":[{\"type\":\"heatmap\",\"colorbar\":{\"outlinewidth\":0,\"ticks\":\"\"},\"colorscale\":[[0.0,\"#0d0887\"],[0.1111111111111111,\"#46039f\"],[0.2222222222222222,\"#7201a8\"],[0.3333333333333333,\"#9c179e\"],[0.4444444444444444,\"#bd3786\"],[0.5555555555555556,\"#d8576b\"],[0.6666666666666666,\"#ed7953\"],[0.7777777777777778,\"#fb9f3a\"],[0.8888888888888888,\"#fdca26\"],[1.0,\"#f0f921\"]]}],\"heatmapgl\":[{\"type\":\"heatmapgl\",\"colorbar\":{\"outlinewidth\":0,\"ticks\":\"\"},\"colorscale\":[[0.0,\"#0d0887\"],[0.1111111111111111,\"#46039f\"],[0.2222222222222222,\"#7201a8\"],[0.3333333333333333,\"#9c179e\"],[0.4444444444444444,\"#bd3786\"],[0.5555555555555556,\"#d8576b\"],[0.6666666666666666,\"#ed7953\"],[0.7777777777777778,\"#fb9f3a\"],[0.8888888888888888,\"#fdca26\"],[1.0,\"#f0f921\"]]}],\"contourcarpet\":[{\"type\":\"contourcarpet\",\"colorbar\":{\"outlinewidth\":0,\"ticks\":\"\"}}],\"contour\":[{\"type\":\"contour\",\"colorbar\":{\"outlinewidth\":0,\"ticks\":\"\"},\"colorscale\":[[0.0,\"#0d0887\"],[0.1111111111111111,\"#46039f\"],[0.2222222222222222,\"#7201a8\"],[0.3333333333333333,\"#9c179e\"],[0.4444444444444444,\"#bd3786\"],[0.5555555555555556,\"#d8576b\"],[0.6666666666666666,\"#ed7953\"],[0.7777777777777778,\"#fb9f3a\"],[0.8888888888888888,\"#fdca26\"],[1.0,\"#f0f921\"]]}],\"surface\":[{\"type\":\"surface\",\"colorbar\":{\"outlinewidth\":0,\"ticks\":\"\"},\"colorscale\":[[0.0,\"#0d0887\"],[0.1111111111111111,\"#46039f\"],[0.2222222222222222,\"#7201a8\"],[0.3333333333333333,\"#9c179e\"],[0.4444444444444444,\"#bd3786\"],[0.5555555555555556,\"#d8576b\"],[0.6666666666666666,\"#ed7953\"],[0.7777777777777778,\"#fb9f3a\"],[0.8888888888888888,\"#fdca26\"],[1.0,\"#f0f921\"]]}],\"mesh3d\":[{\"type\":\"mesh3d\",\"colorbar\":{\"outlinewidth\":0,\"ticks\":\"\"}}],\"scatter\":[{\"fillpattern\":{\"fillmode\":\"overlay\",\"size\":10,\"solidity\":0.2},\"type\":\"scatter\"}],\"parcoords\":[{\"type\":\"parcoords\",\"line\":{\"colorbar\":{\"outlinewidth\":0,\"ticks\":\"\"}}}],\"scatterpolargl\":[{\"type\":\"scatterpolargl\",\"marker\":{\"colorbar\":{\"outlinewidth\":0,\"ticks\":\"\"}}}],\"bar\":[{\"error_x\":{\"color\":\"#2a3f5f\"},\"error_y\":{\"color\":\"#2a3f5f\"},\"marker\":{\"line\":{\"color\":\"#E5ECF6\",\"width\":0.5},\"pattern\":{\"fillmode\":\"overlay\",\"size\":10,\"solidity\":0.2}},\"type\":\"bar\"}],\"scattergeo\":[{\"type\":\"scattergeo\",\"marker\":{\"colorbar\":{\"outlinewidth\":0,\"ticks\":\"\"}}}],\"scatterpolar\":[{\"type\":\"scatterpolar\",\"marker\":{\"colorbar\":{\"outlinewidth\":0,\"ticks\":\"\"}}}],\"histogram\":[{\"marker\":{\"pattern\":{\"fillmode\":\"overlay\",\"size\":10,\"solidity\":0.2}},\"type\":\"histogram\"}],\"scattergl\":[{\"type\":\"scattergl\",\"marker\":{\"colorbar\":{\"outlinewidth\":0,\"ticks\":\"\"}}}],\"scatter3d\":[{\"type\":\"scatter3d\",\"line\":{\"colorbar\":{\"outlinewidth\":0,\"ticks\":\"\"}},\"marker\":{\"colorbar\":{\"outlinewidth\":0,\"ticks\":\"\"}}}],\"scattermapbox\":[{\"type\":\"scattermapbox\",\"marker\":{\"colorbar\":{\"outlinewidth\":0,\"ticks\":\"\"}}}],\"scatterternary\":[{\"type\":\"scatterternary\",\"marker\":{\"colorbar\":{\"outlinewidth\":0,\"ticks\":\"\"}}}],\"scattercarpet\":[{\"type\":\"scattercarpet\",\"marker\":{\"colorbar\":{\"outlinewidth\":0,\"ticks\":\"\"}}}],\"carpet\":[{\"aaxis\":{\"endlinecolor\":\"#2a3f5f\",\"gridcolor\":\"white\",\"linecolor\":\"white\",\"minorgridcolor\":\"white\",\"startlinecolor\":\"#2a3f5f\"},\"baxis\":{\"endlinecolor\":\"#2a3f5f\",\"gridcolor\":\"white\",\"linecolor\":\"white\",\"minorgridcolor\":\"white\",\"startlinecolor\":\"#2a3f5f\"},\"type\":\"carpet\"}],\"table\":[{\"cells\":{\"fill\":{\"color\":\"#EBF0F8\"},\"line\":{\"color\":\"white\"}},\"header\":{\"fill\":{\"color\":\"#C8D4E3\"},\"line\":{\"color\":\"white\"}},\"type\":\"table\"}],\"barpolar\":[{\"marker\":{\"line\":{\"color\":\"#E5ECF6\",\"width\":0.5},\"pattern\":{\"fillmode\":\"overlay\",\"size\":10,\"solidity\":0.2}},\"type\":\"barpolar\"}],\"pie\":[{\"automargin\":true,\"type\":\"pie\"}]},\"layout\":{\"autotypenumbers\":\"strict\",\"colorway\":[\"#636efa\",\"#EF553B\",\"#00cc96\",\"#ab63fa\",\"#FFA15A\",\"#19d3f3\",\"#FF6692\",\"#B6E880\",\"#FF97FF\",\"#FECB52\"],\"font\":{\"color\":\"#2a3f5f\"},\"hovermode\":\"closest\",\"hoverlabel\":{\"align\":\"left\"},\"paper_bgcolor\":\"white\",\"plot_bgcolor\":\"#E5ECF6\",\"polar\":{\"bgcolor\":\"#E5ECF6\",\"angularaxis\":{\"gridcolor\":\"white\",\"linecolor\":\"white\",\"ticks\":\"\"},\"radialaxis\":{\"gridcolor\":\"white\",\"linecolor\":\"white\",\"ticks\":\"\"}},\"ternary\":{\"bgcolor\":\"#E5ECF6\",\"aaxis\":{\"gridcolor\":\"white\",\"linecolor\":\"white\",\"ticks\":\"\"},\"baxis\":{\"gridcolor\":\"white\",\"linecolor\":\"white\",\"ticks\":\"\"},\"caxis\":{\"gridcolor\":\"white\",\"linecolor\":\"white\",\"ticks\":\"\"}},\"coloraxis\":{\"colorbar\":{\"outlinewidth\":0,\"ticks\":\"\"}},\"colorscale\":{\"sequential\":[[0.0,\"#0d0887\"],[0.1111111111111111,\"#46039f\"],[0.2222222222222222,\"#7201a8\"],[0.3333333333333333,\"#9c179e\"],[0.4444444444444444,\"#bd3786\"],[0.5555555555555556,\"#d8576b\"],[0.6666666666666666,\"#ed7953\"],[0.7777777777777778,\"#fb9f3a\"],[0.8888888888888888,\"#fdca26\"],[1.0,\"#f0f921\"]],\"sequentialminus\":[[0.0,\"#0d0887\"],[0.1111111111111111,\"#46039f\"],[0.2222222222222222,\"#7201a8\"],[0.3333333333333333,\"#9c179e\"],[0.4444444444444444,\"#bd3786\"],[0.5555555555555556,\"#d8576b\"],[0.6666666666666666,\"#ed7953\"],[0.7777777777777778,\"#fb9f3a\"],[0.8888888888888888,\"#fdca26\"],[1.0,\"#f0f921\"]],\"diverging\":[[0,\"#8e0152\"],[0.1,\"#c51b7d\"],[0.2,\"#de77ae\"],[0.3,\"#f1b6da\"],[0.4,\"#fde0ef\"],[0.5,\"#f7f7f7\"],[0.6,\"#e6f5d0\"],[0.7,\"#b8e186\"],[0.8,\"#7fbc41\"],[0.9,\"#4d9221\"],[1,\"#276419\"]]},\"xaxis\":{\"gridcolor\":\"white\",\"linecolor\":\"white\",\"ticks\":\"\",\"title\":{\"standoff\":15},\"zerolinecolor\":\"white\",\"automargin\":true,\"zerolinewidth\":2},\"yaxis\":{\"gridcolor\":\"white\",\"linecolor\":\"white\",\"ticks\":\"\",\"title\":{\"standoff\":15},\"zerolinecolor\":\"white\",\"automargin\":true,\"zerolinewidth\":2},\"scene\":{\"xaxis\":{\"backgroundcolor\":\"#E5ECF6\",\"gridcolor\":\"white\",\"linecolor\":\"white\",\"showbackground\":true,\"ticks\":\"\",\"zerolinecolor\":\"white\",\"gridwidth\":2},\"yaxis\":{\"backgroundcolor\":\"#E5ECF6\",\"gridcolor\":\"white\",\"linecolor\":\"white\",\"showbackground\":true,\"ticks\":\"\",\"zerolinecolor\":\"white\",\"gridwidth\":2},\"zaxis\":{\"backgroundcolor\":\"#E5ECF6\",\"gridcolor\":\"white\",\"linecolor\":\"white\",\"showbackground\":true,\"ticks\":\"\",\"zerolinecolor\":\"white\",\"gridwidth\":2}},\"shapedefaults\":{\"line\":{\"color\":\"#2a3f5f\"}},\"annotationdefaults\":{\"arrowcolor\":\"#2a3f5f\",\"arrowhead\":0,\"arrowwidth\":1},\"geo\":{\"bgcolor\":\"white\",\"landcolor\":\"#E5ECF6\",\"subunitcolor\":\"white\",\"showland\":true,\"showlakes\":true,\"lakecolor\":\"white\"},\"title\":{\"x\":0.05},\"mapbox\":{\"style\":\"light\"}}},\"xaxis\":{\"anchor\":\"y\",\"domain\":[0.0,1.0],\"title\":{\"text\":\"recencyValueQuantile\"}},\"yaxis\":{\"anchor\":\"x\",\"domain\":[0.0,1.0],\"title\":{\"text\":\"monetaryValueQuantile\"}},\"coloraxis\":{\"colorbar\":{\"title\":{\"text\":\"avg of monetaryValue\"}},\"colorscale\":[[0.0,\"#440154\"],[0.1111111111111111,\"#482878\"],[0.2222222222222222,\"#3e4989\"],[0.3333333333333333,\"#31688e\"],[0.4444444444444444,\"#26828e\"],[0.5555555555555556,\"#1f9e89\"],[0.6666666666666666,\"#35b779\"],[0.7777777777777778,\"#6ece58\"],[0.8888888888888888,\"#b5de2b\"],[1.0,\"#fde725\"]]},\"legend\":{\"tracegroupgap\":0},\"margin\":{\"t\":60}},                        {\"responsive\": true}                    ).then(function(){\n",
              "                            \n",
              "var gd = document.getElementById('ce896bfb-f602-4e28-8351-cd25ed8cab23');\n",
              "var x = new MutationObserver(function (mutations, observer) {{\n",
              "        var display = window.getComputedStyle(gd).display;\n",
              "        if (!display || display === 'none') {{\n",
              "            console.log([gd, 'removed!']);\n",
              "            Plotly.purge(gd);\n",
              "            observer.disconnect();\n",
              "        }}\n",
              "}});\n",
              "\n",
              "// Listen for the removal of the full notebook cells\n",
              "var notebookContainer = gd.closest('#notebook-container');\n",
              "if (notebookContainer) {{\n",
              "    x.observe(notebookContainer, {childList: true});\n",
              "}}\n",
              "\n",
              "// Listen for the clearing of the current output cell\n",
              "var outputEl = gd.closest('.output');\n",
              "if (outputEl) {{\n",
              "    x.observe(outputEl, {childList: true});\n",
              "}}\n",
              "\n",
              "                        })                };                            </script>        </div>\n",
              "</body>\n",
              "</html>"
            ]
          },
          "metadata": {}
        }
      ]
    },
    {
      "cell_type": "markdown",
      "source": [
        "# Action plan\n",
        "\n",
        "# With this simple analysis, you can start to build strategies to act on each segment."
      ],
      "metadata": {
        "id": "ryrHvlvg8xV7"
      }
    },
    {
      "cell_type": "code",
      "source": [
        "# You can verify the most bought item in each category and compare them, making the simplest recommendation.\n",
        "# You can analyse this from month over month and see if a set of customers become Champion, try to mimic their behaviour or offer what they bought to another category"
      ],
      "metadata": {
        "id": "SJb653Ly9mZj"
      },
      "execution_count": 20,
      "outputs": []
    }
  ]
}